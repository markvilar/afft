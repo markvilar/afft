{
 "cells": [
  {
   "cell_type": "code",
   "execution_count": null,
   "id": "b8790715-0d21-461e-8ca8-77002b159fe5",
   "metadata": {},
   "outputs": [],
   "source": [
    "from pathlib import Path\n",
    "\n",
    "import plotly.graph_objects as go\n",
    "import polars as pl\n",
    "\n",
    "from plotly.subplots import make_subplots\n",
    "\n",
    "from afft.io import read_file\n",
    "from afft.utils.log import logger"
   ]
  },
  {
   "cell_type": "code",
   "execution_count": null,
   "id": "8027fae3-6075-4ea6-9898-5f6a888d82ef",
   "metadata": {},
   "outputs": [],
   "source": [
    "from afft.services.sirius_messages import (\n",
    "    EcopuckMessage,\n",
    ")\n",
    "\n",
    "from afft.services.sirius_messages import (\n",
    "    parse_message_header,\n",
    "    parse_ecopuck_message,\n",
    ")"
   ]
  },
  {
   "cell_type": "markdown",
   "id": "1ee6cbe8-0583-481f-b901-ebb5cc235b30",
   "metadata": {},
   "source": [
    "### Load data"
   ]
  },
  {
   "cell_type": "code",
   "execution_count": null,
   "id": "59310e0a-4b64-4def-84a4-765ebeb8a247",
   "metadata": {},
   "outputs": [],
   "source": [
    "paths: dict = dict()\n",
    "\n",
    "paths[\"datadir\"] = Path(\n",
    "    \"/media/martin/pcie_01/acfr_revisits_processed/acfr_merged_message_files\"\n",
    ")\n",
    "paths[\"messages\"] = paths[\"datadir\"] / Path(\"qdc5ghs3_20130405_103429_messages.txt\")\n",
    "\n",
    "lines: list[str] = read_file(paths[\"messages\"]).unwrap()\n",
    "\n",
    "\n",
    "TOPIC_TO_PARSER: dict = {\n",
    "    \"ECOPUCK\": parse_ecopuck_message,\n",
    "}\n",
    "\n",
    "\n",
    "def parse_messages(lines: list[str], parsers: dict) -> dict:\n",
    "    \"\"\"TODO\"\"\"\n",
    "    parsed_messages: dict[type, object] = dict()\n",
    "\n",
    "    for line in lines:\n",
    "        header = parse_message_header(line).unwrap()\n",
    "\n",
    "        if header.topic not in parsers:\n",
    "            continue\n",
    "\n",
    "        parsed: object = parsers[header.topic](line).unwrap()\n",
    "\n",
    "        if type(parsed) not in parsed_messages:\n",
    "            parsed_messages[type(parsed)] = list()\n",
    "        else:\n",
    "            parsed_messages[type(parsed)].append(parsed)\n",
    "\n",
    "    return parsed_messages\n",
    "\n",
    "\n",
    "parsed_messages: dict[type, list[object]] = parse_messages(lines, TOPIC_TO_PARSER)\n",
    "\n",
    "for message_type, messages in parsed_messages.items():\n",
    "    logger.info(f\"{message_type}: {len(messages)}\")"
   ]
  },
  {
   "cell_type": "markdown",
   "id": "41b54a12-7da2-4252-9c94-6694293a9246",
   "metadata": {},
   "source": [
    "### Define plot functions"
   ]
  },
  {
   "cell_type": "code",
   "execution_count": null,
   "id": "a2f5b387-a52a-4aee-bee8-5c62b0e79030",
   "metadata": {},
   "outputs": [],
   "source": [
    "def plot_ecopuck_series(data: pl.DataFrame) -> None:\n",
    "    \"\"\"TODO\"\"\"\n",
    "    fig = make_subplots(\n",
    "        rows=4,\n",
    "        cols=1,\n",
    "        subplot_titles=(\"Chlorophyll\", \"Backscatter\", \"cDOM\", \"Temperature\"),\n",
    "    )\n",
    "\n",
    "    fig.append_trace(\n",
    "        go.Scatter(\n",
    "            x=data[\"timestamp\"],\n",
    "            y=data[\"chlorophyll\"],\n",
    "        ),\n",
    "        row=1,\n",
    "        col=1,\n",
    "    )\n",
    "    fig.append_trace(\n",
    "        go.Scatter(\n",
    "            x=data[\"timestamp\"],\n",
    "            y=data[\"backscatter\"],\n",
    "        ),\n",
    "        row=2,\n",
    "        col=1,\n",
    "    )\n",
    "    fig.append_trace(\n",
    "        go.Scatter(\n",
    "            x=data[\"timestamp\"],\n",
    "            y=data[\"cdom\"],\n",
    "        ),\n",
    "        row=3,\n",
    "        col=1,\n",
    "    )\n",
    "    fig.append_trace(\n",
    "        go.Scatter(\n",
    "            x=data[\"timestamp\"],\n",
    "            y=data[\"temperature\"],\n",
    "        ),\n",
    "        row=4,\n",
    "        col=1,\n",
    "    )\n",
    "\n",
    "    fig.update_layout(height=800, width=1000, title_text=\"LQ Modem Timeseries\")\n",
    "\n",
    "    return fig"
   ]
  },
  {
   "cell_type": "markdown",
   "id": "09744a91-31d0-434c-bbc7-c4d2e3196523",
   "metadata": {},
   "source": [
    "### Format LQ Modem messages"
   ]
  },
  {
   "cell_type": "code",
   "execution_count": null,
   "id": "0e553373-c97c-454e-a451-4d505711f2f3",
   "metadata": {},
   "outputs": [],
   "source": [
    "data: dict = dict()\n",
    "data[\"ecopuck\"]: pl.DataFrame = pl.DataFrame(\n",
    "    [\n",
    "        {\n",
    "            \"topic\": message.header.topic,\n",
    "            \"timestamp\": message.header.timestamp,\n",
    "            \"chlorophyll\": message.body.chlorophyll,\n",
    "            \"backscatter\": message.body.backscatter,\n",
    "            \"cdom\": message.body.cdom,\n",
    "            \"temperature\": message.body.temperature,\n",
    "        }\n",
    "        for message in parsed_messages[EcopuckMessage]\n",
    "    ]\n",
    ")\n",
    "\n",
    "figs: dict = dict()\n",
    "figs[\"ecopuck\"] = plot_ecopuck_series(data[\"ecopuck\"])\n",
    "figs[\"ecopuck\"].show()"
   ]
  }
 ],
 "metadata": {
  "kernelspec": {
   "display_name": "Python 3 (ipykernel)",
   "language": "python",
   "name": "python3"
  },
  "language_info": {
   "codemirror_mode": {
    "name": "ipython",
    "version": 3
   },
   "file_extension": ".py",
   "mimetype": "text/x-python",
   "name": "python",
   "nbconvert_exporter": "python",
   "pygments_lexer": "ipython3",
   "version": "3.12.5"
  }
 },
 "nbformat": 4,
 "nbformat_minor": 5
}
