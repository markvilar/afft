{
 "cells": [
  {
   "cell_type": "code",
   "execution_count": 7,
   "id": "a15e9dd8-0057-4f4c-8d5f-0ce0ee66c61d",
   "metadata": {},
   "outputs": [],
   "source": [
    "from pathlib import Path\n",
    "\n",
    "import raft"
   ]
  },
  {
   "cell_type": "code",
   "execution_count": 8,
   "id": "b1be011a-4a3f-44c2-8232-1a01cfa8a2b9",
   "metadata": {},
   "outputs": [],
   "source": [
    "SITE = \"\"\n",
    "DATETIME = \"\"\n",
    "\n",
    "path: Path = Path(f\"/media/martin/pcie_01/acfr_revisits_processed/{SITE}/{SITE}_{DATETIME}_cameras.csv\")"
   ]
  }
 ],
 "metadata": {
  "kernelspec": {
   "display_name": "Python 3 (ipykernel)",
   "language": "python",
   "name": "python3"
  },
  "language_info": {
   "codemirror_mode": {
    "name": "ipython",
    "version": 3
   },
   "file_extension": ".py",
   "mimetype": "text/x-python",
   "name": "python",
   "nbconvert_exporter": "python",
   "pygments_lexer": "ipython3",
   "version": "3.12.3"
  }
 },
 "nbformat": 4,
 "nbformat_minor": 5
}
