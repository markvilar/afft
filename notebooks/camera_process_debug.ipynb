{
 "cells": [
  {
   "cell_type": "code",
   "execution_count": 8,
   "id": "a15e9dd8-0057-4f4c-8d5f-0ce0ee66c61d",
   "metadata": {},
   "outputs": [],
   "source": [
    "from pathlib import Path\n",
    "\n",
    "from polars import DataFrame\n",
    "\n",
    "from raft.utils.log import logger\n",
    "from raft.services.renav import read_cameras"
   ]
  },
  {
   "cell_type": "code",
   "execution_count": 9,
   "id": "b1be011a-4a3f-44c2-8232-1a01cfa8a2b9",
   "metadata": {},
   "outputs": [],
   "source": [
    "DATA_DIR: Path = Path(f\"/home/martin/data/acfr_revisits_processed\")\n",
    "SITE = \"\"\n",
    "DATETIME = \"\"\n",
    "\n",
    "paths: dict[str, Path] = dict()\n",
    "\n",
    "\n",
    "paths[\"cameras\"] = Path(f\"{DATA_DIR}/acfr_renav_files/{SITE}_{DATETIME}_cameras.csv\")\n",
    "paths[\"labels\"] = Path(f\"{DATA_DIR}/acfr_camera_labels/{SITE}_{DATETIME}_camera_labels.txt\")\n",
    "\n",
    "cameras: DataFrame = read_cameras(paths[\"cameras\"])"
   ]
  },
  {
   "cell_type": "code",
   "execution_count": 10,
   "id": "3c003bda-d45f-4e50-9722-c7c977e794f6",
   "metadata": {},
   "outputs": [
    {
     "ename": "SyntaxError",
     "evalue": "incomplete input (3344208410.py, line 1)",
     "output_type": "error",
     "traceback": [
      "\u001b[0;36m  Cell \u001b[0;32mIn[10], line 1\u001b[0;36m\u001b[0m\n\u001b[0;31m    logger.info(camer\u001b[0m\n\u001b[0m                     ^\u001b[0m\n\u001b[0;31mSyntaxError\u001b[0m\u001b[0;31m:\u001b[0m incomplete input\n"
     ]
    }
   ],
   "source": [
    "logger.info(camer"
   ]
  }
 ],
 "metadata": {
  "kernelspec": {
   "display_name": "Python 3 (ipykernel)",
   "language": "python",
   "name": "python3"
  },
  "language_info": {
   "codemirror_mode": {
    "name": "ipython",
    "version": 3
   },
   "file_extension": ".py",
   "mimetype": "text/x-python",
   "name": "python",
   "nbconvert_exporter": "python",
   "pygments_lexer": "ipython3",
   "version": "3.12.3"
  }
 },
 "nbformat": 4,
 "nbformat_minor": 5
}
