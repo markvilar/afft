{
 "cells": [
  {
   "cell_type": "code",
   "execution_count": null,
   "id": "03ef8bda-b030-4f92-8c47-0ffae8eb5450",
   "metadata": {},
   "outputs": [],
   "source": [
    "from pathlib import Path\n",
    "from typing import Optional\n",
    "\n",
    "import plotly.express as px\n",
    "import plotly.graph_objects as go\n",
    "import polars as pl\n",
    "\n",
    "from plotly.subplots import make_subplots\n",
    "\n",
    "from afft.utils.log import logger"
   ]
  },
  {
   "cell_type": "code",
   "execution_count": null,
   "id": "7fd1b05e-6d52-4ae2-a4df-908c044419e9",
   "metadata": {},
   "outputs": [],
   "source": [
    "INPUT_DIR: Path = Path(\"/media/martin/barracuda/acfr_revisits_cameras\")\n",
    "OUTPUT_DIR: Path = Path(\"/media/martin/barracuda/acfr_revisits_cameras\")\n",
    "\n",
    "# Visits that need updated latitude / longitude\n",
    "# r29mrd5h_20090612_225306_cameras\n",
    "# r29mrd5h_20090613_100254_cameras\n",
    "# r29mrd12_20090613_010853_cameras\n",
    "# r29mrd12_20090613_104954_cameras\n",
    "\n",
    "FILENAME: str = \"r29mrd12_20090613_104954_cameras.csv\"\n",
    "\n",
    "camera_paths: dict = dict()\n",
    "camera_paths[\"renav\"]: Path = INPUT_DIR / Path(\n",
    "    f\"acfr_cameras_renav_filtered/{FILENAME}\"\n",
    ")\n",
    "camera_paths[\"squidle\"]: Path = INPUT_DIR / Path(f\"acfr_cameras_squidle/{FILENAME}\")\n",
    "output_path: Path = OUTPUT_DIR / Path(f\"acfr_cameras_squidle_filtered/{FILENAME}\")\n",
    "\n",
    "for key in [\"renav\", \"squidle\"]:\n",
    "    if not camera_paths[key].exists():\n",
    "        logger.error(f\"file does not exist: {camera_paths[key]}\")"
   ]
  },
  {
   "cell_type": "code",
   "execution_count": null,
   "id": "41912fb2-c5c8-4ac8-8716-6f7f74e19b30",
   "metadata": {},
   "outputs": [],
   "source": [
    "cameras: dict = dict()\n",
    "cameras[\"renav\"]: pl.DataFrame = pl.read_csv(camera_paths[\"renav\"])\n",
    "cameras[\"squidle\"]: pl.DataFrame = pl.read_csv(camera_paths[\"squidle\"])\n",
    "\n",
    "figs: dict = dict()\n",
    "\n",
    "logger.info(cameras[\"renav\"].head())\n",
    "logger.info(cameras[\"squidle\"].head())"
   ]
  },
  {
   "cell_type": "code",
   "execution_count": null,
   "id": "1507a186-2823-463f-8665-de02da963f0f",
   "metadata": {},
   "outputs": [],
   "source": [
    "# TODO: Overwrite latitude / longitude values in renav where renav.label == squidle.key\n",
    "cam_r: pl.DataFrame = cameras[\"renav\"]\n",
    "\n",
    "# Filter squidle cameras that are not among the renav cameras\n",
    "cameras[\"filtered\"]: pl.DataFrame = cameras[\"squidle\"].filter(\n",
    "    pl.col(\"key\").is_in(cameras[\"renav\"][\"stereo_left_label\"])\n",
    ")\n",
    "\n",
    "if len(cameras[\"filtered\"]) != len(cameras[\"renav\"]):\n",
    "    logger.error(\n",
    "        \"number of cameras filtered from Squidle does not match the number of cameras from Renav\"\n",
    "    )\n",
    "else:\n",
    "    logger.info(f\"Camera count: {cameras['filtered']}\")\n",
    "\n",
    "# Sort cameras by label\n",
    "cameras[\"filtered\"] = cameras[\"filtered\"].sort(\"key\")\n",
    "cameras[\"renav\"] = cameras[\"renav\"].sort(\"stereo_left_label\")\n",
    "\n",
    "\n",
    "# Replace lat/lon in Renav cameras with Squidle cameras\n",
    "cameras[\"updated\"]: pl.DataFrame = cameras[\"renav\"].with_columns(\n",
    "    [\n",
    "        cameras[\"filtered\"][\"pose.lat\"].alias(\"latitude\"),\n",
    "        cameras[\"filtered\"][\"pose.lon\"].alias(\"longitude\"),\n",
    "    ]\n",
    ")"
   ]
  },
  {
   "cell_type": "markdown",
   "id": "9259fd18-86ca-46e1-8a19-0aa13fc57468",
   "metadata": {},
   "source": [
    "### Define plot functions"
   ]
  },
  {
   "cell_type": "code",
   "execution_count": null,
   "id": "59a66abc-4df5-4ccd-b561-6b694ef58ffe",
   "metadata": {},
   "outputs": [],
   "source": [
    "def plot_attitudes(cameras: pl.DataFrame, show: bool = True) -> None:\n",
    "    \"\"\"TODO\"\"\"\n",
    "    fig = make_subplots(rows=3, cols=1, subplot_titles=(\"Roll\", \"Pitch\", \"Heading\"))\n",
    "\n",
    "    fig.append_trace(\n",
    "        go.Scatter(\n",
    "            x=cameras[\"timestamp\"],\n",
    "            y=cameras[\"pitch\"],\n",
    "        ),\n",
    "        row=1,\n",
    "        col=1,\n",
    "    )\n",
    "    fig.append_trace(\n",
    "        go.Scatter(\n",
    "            x=cameras[\"timestamp\"],\n",
    "            y=cameras[\"roll\"],\n",
    "        ),\n",
    "        row=2,\n",
    "        col=1,\n",
    "    )\n",
    "    fig.append_trace(\n",
    "        go.Scatter(\n",
    "            x=cameras[\"timestamp\"],\n",
    "            y=cameras[\"heading\"],\n",
    "        ),\n",
    "        row=3,\n",
    "        col=1,\n",
    "    )\n",
    "\n",
    "    fig.update_layout(height=600, width=1000, title_text=\"Stacked Subplots\")\n",
    "    if show:\n",
    "        fig.show()\n",
    "\n",
    "    return fig\n",
    "\n",
    "\n",
    "def plot_vertical(cameras: pl.DataFrame, show: bool = True) -> None:\n",
    "    \"\"\"TODO\"\"\"\n",
    "    fig = make_subplots(rows=3, cols=1, subplot_titles=(\"Depth\", \"Height\", \"Altitude\"))\n",
    "\n",
    "    fig.append_trace(\n",
    "        go.Scatter(\n",
    "            x=cameras[\"timestamp\"],\n",
    "            y=cameras[\"depth\"],\n",
    "        ),\n",
    "        row=1,\n",
    "        col=1,\n",
    "    )\n",
    "    fig.append_trace(\n",
    "        go.Scatter(\n",
    "            x=cameras[\"timestamp\"],\n",
    "            y=cameras[\"height\"],\n",
    "        ),\n",
    "        row=2,\n",
    "        col=1,\n",
    "    )\n",
    "    fig.append_trace(\n",
    "        go.Scatter(\n",
    "            x=cameras[\"timestamp\"],\n",
    "            y=cameras[\"altitude\"],\n",
    "        ),\n",
    "        row=3,\n",
    "        col=1,\n",
    "    )\n",
    "\n",
    "    fig.update_layout(height=600, width=1000, title_text=\"Stacked Subplots\")\n",
    "    if show:\n",
    "        fig.show()\n",
    "\n",
    "    return fig\n",
    "\n",
    "\n",
    "def plot_geolocations(cameras: pl.DataFrame, show: bool = True) -> None:\n",
    "    \"\"\"TODO\"\"\"\n",
    "    fig = px.scatter_mapbox(\n",
    "        cameras,\n",
    "        lat=\"latitude\",\n",
    "        lon=\"longitude\",\n",
    "        color=\"timestamp\",\n",
    "        size_max=15,\n",
    "        zoom=17,\n",
    "        height=600,\n",
    "        hover_data={\"heading\", \"stereo_left_label\", \"depth\"},\n",
    "    )\n",
    "\n",
    "    fig.update_layout(height=500, width=1000, mapbox_style=\"open-street-map\")\n",
    "    fig.show()\n",
    "    return fig"
   ]
  },
  {
   "cell_type": "markdown",
   "id": "c578dc1f-5c8f-4f7f-aa1e-278532a34873",
   "metadata": {},
   "source": [
    "### Plot attitude and vertical timeseries, and geolocations"
   ]
  },
  {
   "cell_type": "code",
   "execution_count": null,
   "id": "8b0c5faa-9142-4f1a-abb0-061f5980ddcb",
   "metadata": {
    "scrolled": true
   },
   "outputs": [],
   "source": [
    "figs[\"renav_attitudes\"] = plot_attitudes(cameras[\"updated\"])\n",
    "figs[\"vertical\"] = plot_vertical(cameras[\"updated\"])\n",
    "figs[\"updated\"] = plot_geolocations(cameras[\"updated\"])"
   ]
  },
  {
   "cell_type": "markdown",
   "id": "9a53e618-fde2-4f1d-ab60-4c4fe75a0a14",
   "metadata": {},
   "source": [
    "### Write updated cameras to file"
   ]
  },
  {
   "cell_type": "code",
   "execution_count": null,
   "id": "b789a4c5-fcb7-4ba3-8a45-1f5cd634b6f2",
   "metadata": {},
   "outputs": [],
   "source": [
    "do_export: bool = True\n",
    "if do_export:\n",
    "    error: Optional[str] = cameras[\"updated\"].write_csv(output_path)\n",
    "    if error:\n",
    "        logger.error(error)\n",
    "    else:\n",
    "        logger.info(f\"saved file to: {output_path}\")"
   ]
  }
 ],
 "metadata": {
  "kernelspec": {
   "display_name": "Python 3 (ipykernel)",
   "language": "python",
   "name": "python3"
  },
  "language_info": {
   "codemirror_mode": {
    "name": "ipython",
    "version": 3
   },
   "file_extension": ".py",
   "mimetype": "text/x-python",
   "name": "python",
   "nbconvert_exporter": "python",
   "pygments_lexer": "ipython3",
   "version": "3.12.5"
  }
 },
 "nbformat": 4,
 "nbformat_minor": 5
}
