{
 "cells": [
  {
   "cell_type": "markdown",
   "id": "cd96e0c9-6325-467e-ba91-6d6e68b4e886",
   "metadata": {},
   "source": [
    "### Sandbox for exporting camera metadata from a database"
   ]
  },
  {
   "cell_type": "code",
   "execution_count": null,
   "id": "0ca7bd74-006e-414d-b24f-82db29277663",
   "metadata": {},
   "outputs": [],
   "source": [
    "from pathlib import Path\n",
    "\n",
    "import polars as pl\n",
    "\n",
    "from afft.io.sql import create_endpoint\n",
    "from afft.utils.log import logger\n",
    "from afft.utils.result import Ok, Err\n",
    "\n",
    "from afft.tasks.process_tables import process_database_tables\n",
    "\n",
    "\n",
    "def export_table(table: pl.DataFrame, output: Path) -> None:\n",
    "    \"\"\"Exports a table to the given path.\"\"\"\n",
    "    if not output.exists():\n",
    "        table.write_csv(output)\n",
    "    else:\n",
    "        logger.error(f\"file already exists: {output}\")\n",
    "\n",
    "\n",
    "def main() -> None:\n",
    "    \"\"\"Main function.\"\"\"\n",
    "\n",
    "    queries: dict[str, str] = {\n",
    "        \"ctd\": \"SELECT * from r23685bc_20140616_225022_ctd_seabird\",\n",
    "        \"dvl\": \"SELECT * from r23685bc_20140616_225022_dvl_teledyne\",\n",
    "        \"image\": \"SELECT * from r23685bc_20140616_225022_image_capture\",\n",
    "        \"pressure\": \"SELECT * from r23685bc_20140616_225022_pressure_parosci\",\n",
    "    }\n",
    "\n",
    "    OUTPUT: Path = Path(\n",
    "        \"/data/kingston_snv_01/acfr_camera_metadata/r23685bc_20140616_225022_camera_metadata.csv\"\n",
    "    )\n",
    "\n",
    "    match create_endpoint(database=\"acfr_auv_messages\", host=\"localhost\", port=5432):\n",
    "        case Ok(endpoint):\n",
    "            processed: pl.DataFrame = process_database_tables(\n",
    "                endpoint, queries, base=\"image\"\n",
    "            )\n",
    "            export_table(processed, OUTPUT)\n",
    "            logger.info(\"Processed table successfully.\")\n",
    "        case Err(message):\n",
    "            logger.error(message)\n",
    "\n",
    "\n",
    "# INVOKE MAIN\n",
    "main()"
   ]
  }
 ],
 "metadata": {
  "kernelspec": {
   "display_name": "Python 3 (ipykernel)",
   "language": "python",
   "name": "python3"
  },
  "language_info": {
   "codemirror_mode": {
    "name": "ipython",
    "version": 3
   },
   "file_extension": ".py",
   "mimetype": "text/x-python",
   "name": "python",
   "nbconvert_exporter": "python",
   "pygments_lexer": "ipython3",
   "version": "3.12.6"
  }
 },
 "nbformat": 4,
 "nbformat_minor": 5
}
