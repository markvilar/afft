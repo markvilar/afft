{
 "cells": [
  {
   "cell_type": "markdown",
   "id": "cd96e0c9-6325-467e-ba91-6d6e68b4e886",
   "metadata": {},
   "source": [
    "### Sandbox for exporting camera metadata from a database"
   ]
  },
  {
   "cell_type": "code",
   "execution_count": 10,
   "id": "0ca7bd74-006e-414d-b24f-82db29277663",
   "metadata": {},
   "outputs": [
    {
     "name": "stderr",
     "output_type": "stream",
     "text": [
      "\u001b[32m2024-10-16 17:08:21.535\u001b[0m | \u001b[1mINFO    \u001b[0m | \u001b[36m__main__\u001b[0m:\u001b[36mmain\u001b[0m:\u001b[36m59\u001b[0m - \u001b[1m\u001b[0m\n",
      "\u001b[32m2024-10-16 17:08:21.536\u001b[0m | \u001b[1mINFO    \u001b[0m | \u001b[36m__main__\u001b[0m:\u001b[36mmain\u001b[0m:\u001b[36m61\u001b[0m - \u001b[1mqd61g27j_20100421_022145\u001b[0m\n",
      "\u001b[32m2024-10-16 17:08:21.536\u001b[0m | \u001b[1mINFO    \u001b[0m | \u001b[36m__main__\u001b[0m:\u001b[36mmain\u001b[0m:\u001b[36m61\u001b[0m - \u001b[1mqd61g27j_20110410_011202\u001b[0m\n",
      "\u001b[32m2024-10-16 17:08:21.536\u001b[0m | \u001b[1mINFO    \u001b[0m | \u001b[36m__main__\u001b[0m:\u001b[36mmain\u001b[0m:\u001b[36m61\u001b[0m - \u001b[1mqd61g27j_20120422_043114\u001b[0m\n",
      "\u001b[32m2024-10-16 17:08:21.537\u001b[0m | \u001b[1mINFO    \u001b[0m | \u001b[36m__main__\u001b[0m:\u001b[36mmain\u001b[0m:\u001b[36m61\u001b[0m - \u001b[1mqd61g27j_20130414_013620\u001b[0m\n",
      "\u001b[32m2024-10-16 17:08:21.537\u001b[0m | \u001b[1mINFO    \u001b[0m | \u001b[36m__main__\u001b[0m:\u001b[36mmain\u001b[0m:\u001b[36m61\u001b[0m - \u001b[1mqd61g27j_20170523_040815\u001b[0m\n",
      "\u001b[32m2024-10-16 17:08:21.537\u001b[0m | \u001b[1mINFO    \u001b[0m | \u001b[36m__main__\u001b[0m:\u001b[36mmain\u001b[0m:\u001b[36m62\u001b[0m - \u001b[1m\u001b[0m\n",
      "\u001b[32m2024-10-16 17:08:22.646\u001b[0m | \u001b[1mINFO    \u001b[0m | \u001b[36m__main__\u001b[0m:\u001b[36mmain\u001b[0m:\u001b[36m72\u001b[0m - \u001b[1mSaved data frame: /data/kingston_snv_01/acfr_cameras_metadata/qd61g27j_20100421_022145_cameras_metadata.csv\u001b[0m\n",
      "\u001b[32m2024-10-16 17:08:22.648\u001b[0m | \u001b[1mINFO    \u001b[0m | \u001b[36m__main__\u001b[0m:\u001b[36mmain\u001b[0m:\u001b[36m72\u001b[0m - \u001b[1mSaved data frame: /data/kingston_snv_01/acfr_cameras_metadata/qd61g27j_20110410_011202_cameras_metadata.csv\u001b[0m\n",
      "\u001b[32m2024-10-16 17:08:22.649\u001b[0m | \u001b[1mINFO    \u001b[0m | \u001b[36m__main__\u001b[0m:\u001b[36mmain\u001b[0m:\u001b[36m72\u001b[0m - \u001b[1mSaved data frame: /data/kingston_snv_01/acfr_cameras_metadata/qd61g27j_20120422_043114_cameras_metadata.csv\u001b[0m\n",
      "\u001b[32m2024-10-16 17:08:22.651\u001b[0m | \u001b[1mINFO    \u001b[0m | \u001b[36m__main__\u001b[0m:\u001b[36mmain\u001b[0m:\u001b[36m72\u001b[0m - \u001b[1mSaved data frame: /data/kingston_snv_01/acfr_cameras_metadata/qd61g27j_20130414_013620_cameras_metadata.csv\u001b[0m\n",
      "\u001b[32m2024-10-16 17:08:22.653\u001b[0m | \u001b[1mINFO    \u001b[0m | \u001b[36m__main__\u001b[0m:\u001b[36mmain\u001b[0m:\u001b[36m72\u001b[0m - \u001b[1mSaved data frame: /data/kingston_snv_01/acfr_cameras_metadata/qd61g27j_20170523_040815_cameras_metadata.csv\u001b[0m\n"
     ]
    }
   ],
   "source": [
    "from dataclasses import dataclass\n",
    "from pathlib import Path\n",
    "\n",
    "import polars as pl\n",
    "\n",
    "from afft.io import read_config\n",
    "from afft.io.sql import create_endpoint\n",
    "from afft.utils.log import logger\n",
    "from afft.utils.result import Ok, Err\n",
    "\n",
    "from afft.tasks.process_tables import process_database_tables\n",
    "\n",
    "\n",
    "def load_task_configs(path: Path) -> list[TaskConfig]:\n",
    "    \"\"\"Load a collection of task configurations from file.\"\"\"\n",
    "    match read_config(path):\n",
    "        case Ok(data):\n",
    "            return [TaskConfig(**config) for config in data.get(\"tasks\")]\n",
    "        case Err(message):\n",
    "            logger.error(message)\n",
    "            return list()\n",
    "\n",
    "\n",
    "def handle_tasks(endpoint, configs: list[TaskConfig]) -> dict[str, pl.DataFrame]:\n",
    "    \"\"\"Execute joining of camera.\"\"\"\n",
    "\n",
    "    results: dict[str, pl.DataFrame] = dict()\n",
    "    for config in configs:\n",
    "\n",
    "        results[config.label] = process_database_tables(\n",
    "            endpoint,\n",
    "            queries=config.queries,\n",
    "            selections=config.selections,\n",
    "            base=config.join.get(\"base\"),\n",
    "            join_on=config.join.get(\"field\"),\n",
    "        )\n",
    "\n",
    "    return results\n",
    "\n",
    "\n",
    "def main() -> None:\n",
    "    \"\"\"Main function.\"\"\"\n",
    "\n",
    "    CONFIG: Path = Path(\"../config/message_queries/qd61g27j.toml\")\n",
    "    OUTPUT: Path = Path(\"/data/kingston_snv_01/acfr_cameras_metadata\")\n",
    "\n",
    "    configs: list[TaskConfig] = load_task_configs(CONFIG)\n",
    "\n",
    "    logger.info(\"\")\n",
    "    for config in configs:\n",
    "        logger.info(config.label)\n",
    "    logger.info(\"\")\n",
    "\n",
    "    match create_endpoint(database=\"acfr_auv_messages\", host=\"localhost\", port=5432):\n",
    "        case Ok(endpoint):\n",
    "            results: dict[str, pl.DataFrame] = handle_tasks(endpoint, configs)\n",
    "\n",
    "            for name, data in results.items():\n",
    "                output: Path = OUTPUT / f\"{name}_cameras_metadata.csv\"\n",
    "                error: str | None = data.write_csv(output)\n",
    "                if not error:\n",
    "                    logger.info(f\"Saved data frame: {output}\")\n",
    "                else:\n",
    "                    logger.error(f\"Error when writing data: {error}\")\n",
    "        case Err(message):\n",
    "            logger.error(message)\n",
    "\n",
    "\n",
    "# INVOKE MAIN\n",
    "main()"
   ]
  }
 ],
 "metadata": {
  "kernelspec": {
   "display_name": "Python 3 (ipykernel)",
   "language": "python",
   "name": "python3"
  },
  "language_info": {
   "codemirror_mode": {
    "name": "ipython",
    "version": 3
   },
   "file_extension": ".py",
   "mimetype": "text/x-python",
   "name": "python",
   "nbconvert_exporter": "python",
   "pygments_lexer": "ipython3",
   "version": "3.12.7"
  }
 },
 "nbformat": 4,
 "nbformat_minor": 5
}
