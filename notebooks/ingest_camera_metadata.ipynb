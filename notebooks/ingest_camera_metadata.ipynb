{
 "cells": [
  {
   "cell_type": "markdown",
   "id": "51ec773f-2473-4f25-bd58-cdb2f930ecb8",
   "metadata": {},
   "source": [
    "### Ingests camera metadata into a Postgres database"
   ]
  },
  {
   "cell_type": "code",
   "execution_count": 1,
   "id": "6057dc36-1f7d-4a82-8fb7-45b7bc98d02b",
   "metadata": {},
   "outputs": [
    {
     "name": "stderr",
     "output_type": "stream",
     "text": [
      "\u001b[32m2024-10-16 18:17:11.740\u001b[0m | \u001b[1mINFO    \u001b[0m | \u001b[36m__main__\u001b[0m:\u001b[36mmain\u001b[0m:\u001b[36m51\u001b[0m - \u001b[1m\u001b[0m\n",
      "\u001b[32m2024-10-16 18:17:11.740\u001b[0m | \u001b[1mINFO    \u001b[0m | \u001b[36m__main__\u001b[0m:\u001b[36mmain\u001b[0m:\u001b[36m52\u001b[0m - \u001b[1mBase directory: /data/kingston_snv_01/acfr_cameras_metadata\u001b[0m\n",
      "\u001b[32m2024-10-16 18:17:11.741\u001b[0m | \u001b[1mINFO    \u001b[0m | \u001b[36m__main__\u001b[0m:\u001b[36mmain\u001b[0m:\u001b[36m53\u001b[0m - \u001b[1mCamera files: 52\u001b[0m\n",
      "\u001b[32m2024-10-16 18:17:11.741\u001b[0m | \u001b[1mINFO    \u001b[0m | \u001b[36m__main__\u001b[0m:\u001b[36mmain\u001b[0m:\u001b[36m54\u001b[0m - \u001b[1m\u001b[0m\n"
     ]
    }
   ],
   "source": [
    "from pathlib import Path\n",
    "\n",
    "import polars as pl\n",
    "\n",
    "from afft.filesystem import search_directory\n",
    "from afft.io.sql import Endpoint, create_endpoint, write_database\n",
    "\n",
    "from afft.utils.log import logger\n",
    "from afft.utils.result import Ok, Err, Result\n",
    "\n",
    "\n",
    "def ingest_cameras_database(\n",
    "    endpoint: Endpoint, data_frames: dict[str, pl.DataFrame]\n",
    ") -> None:\n",
    "    \"\"\"Ingests a collection of camera data frames into a database.\"\"\"\n",
    "\n",
    "    insert_results: dict[str, Result] = {\n",
    "        table: write_database(endpoint, table, data_frame, if_table_exists=\"replace\")\n",
    "        for table, data_frame in data_frames.items()\n",
    "    }\n",
    "\n",
    "    for name, insert_result in insert_results.items():\n",
    "        match insert_result:\n",
    "            case Ok(None):\n",
    "                pass\n",
    "            case Err(message):\n",
    "                logger.error(message)\n",
    "\n",
    "\n",
    "def main() -> None:\n",
    "    \"\"\"Main function.\"\"\"\n",
    "\n",
    "    DATABASE: str = \"acfr_auv_cameras\"\n",
    "    HOST: str = \"localhost\"\n",
    "    PORT: int = 5432\n",
    "    DIRECTORY: Path = Path(\"/data/kingston_snv_01/acfr_cameras_metadata/\")\n",
    "\n",
    "    # Query directory for camera files\n",
    "    files: list[Path] = search_directory(DIRECTORY, \"*_cameras_metadata.csv\").unwrap()\n",
    "\n",
    "    # Read data frames and label with path stem\n",
    "    data_frames: dict[str, pl.DataFrame] = dict()\n",
    "    for path in files:\n",
    "        label: str = path.stem\n",
    "        data_frame: pl.DataFrame = pl.read_csv(source=path)\n",
    "\n",
    "        assert len(data_frame) > 0, f\"no cameras in {path.name}\"\n",
    "\n",
    "        data_frames[label] = data_frame\n",
    "\n",
    "    logger.info(\"\")\n",
    "    logger.info(f\"Base directory: {DIRECTORY}\")\n",
    "    logger.info(f\"Camera files: {len(files)}\")\n",
    "    logger.info(\"\")\n",
    "\n",
    "    match create_endpoint(database=DATABASE, host=HOST, port=PORT):\n",
    "        case Ok(endpoint):\n",
    "            ingest_cameras_database(endpoint, data_frames)\n",
    "        case Err(message):\n",
    "            logger.error(message)\n",
    "\n",
    "\n",
    "# Invoke main\n",
    "main()"
   ]
  }
 ],
 "metadata": {
  "kernelspec": {
   "display_name": "Python 3 (ipykernel)",
   "language": "python",
   "name": "python3"
  },
  "language_info": {
   "codemirror_mode": {
    "name": "ipython",
    "version": 3
   },
   "file_extension": ".py",
   "mimetype": "text/x-python",
   "name": "python",
   "nbconvert_exporter": "python",
   "pygments_lexer": "ipython3",
   "version": "3.12.7"
  }
 },
 "nbformat": 4,
 "nbformat_minor": 5
}
