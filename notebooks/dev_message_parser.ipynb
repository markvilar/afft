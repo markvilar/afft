{
 "cells": [
  {
   "cell_type": "code",
   "execution_count": null,
   "id": "b8790715-0d21-461e-8ca8-77002b159fe5",
   "metadata": {},
   "outputs": [],
   "source": [
    "from pathlib import Path\n",
    "\n",
    "from afft.io import read_file\n",
    "from afft.utils.log import logger"
   ]
  },
  {
   "cell_type": "code",
   "execution_count": null,
   "id": "8027fae3-6075-4ea6-9898-5f6a888d82ef",
   "metadata": {},
   "outputs": [],
   "source": [
    "from afft.services.sirius_messages import (\n",
    "    ImageCaptureMessage,\n",
    "    SeabirdCTDMessage,\n",
    "    AanderaaCTDMessage,\n",
    "    EcopuckMessage,\n",
    "    ParosciPressureMessage,\n",
    "    TeledyneDVLMessage,\n",
    "    LQModemMessage,\n",
    "    EvologicsModemMessage,\n",
    "    MicronSonarMessage,\n",
    "    OASonarMessage,\n",
    "    BatteryMessage,\n",
    "    ThrusterMessage,\n",
    "    MESSAGE_TYPE_TO_PARSER,\n",
    ")\n",
    "\n",
    "from afft.services.sirius_messages import AuvMessageHeader, parse_message_header"
   ]
  },
  {
   "cell_type": "markdown",
   "id": "27542605-57d5-45cb-a000-61e5ce02e216",
   "metadata": {},
   "source": [
    "### Parse all messages"
   ]
  },
  {
   "cell_type": "code",
   "execution_count": null,
   "id": "df8a94a8-c2d8-49ea-8f6a-6a79b99c429c",
   "metadata": {},
   "outputs": [],
   "source": [
    "paths: dict = dict()\n",
    "\n",
    "paths[\"datadir\"] = Path(\n",
    "    \"/media/martin/pcie_01/acfr_revisits_processed/acfr_merged_message_files\"\n",
    ")\n",
    "paths[\"messages\"] = paths[\"datadir\"] / Path(\"qd61g27j_20170523_040815_messages.txt\")\n",
    "\n",
    "lines: list[str] = read_file(paths[\"messages\"]).unwrap()\n",
    "\n",
    "# Mapping from topic to message type\n",
    "TOPIC_TO_TYPE: dict[str, type] = {\n",
    "    \"VIS\": ImageCaptureMessage,\n",
    "    \"SEABIRD\": SeabirdCTDMessage,\n",
    "    \"AANDERAA_4317\": AanderaaCTDMessage,\n",
    "    \"ECOPUCK\": EcopuckMessage,\n",
    "    \"PAROSCI\": ParosciPressureMessage,\n",
    "    \"RDI\": TeledyneDVLMessage,\n",
    "    \"LQMODEM\": LQModemMessage,\n",
    "    \"EVOLOGICS_FIX\": EvologicsModemMessage,\n",
    "    \"MICRON\": MicronSonarMessage,\n",
    "    \"MICRON_RETURNS\": MicronSonarMessage,\n",
    "    \"OAS\": OASonarMessage,\n",
    "    \"BATT\": BatteryMessage,\n",
    "    \"BATT0\": BatteryMessage,\n",
    "    \"BATT1\": BatteryMessage,\n",
    "    \"BATT2\": BatteryMessage,\n",
    "    \"THR_PORT\": ThrusterMessage,\n",
    "    \"THR_STBD\": ThrusterMessage,\n",
    "    \"THR_VERT\": ThrusterMessage,\n",
    "}\n",
    "\n",
    "\n",
    "def parse_messages(lines: list[str]) -> dict:\n",
    "    \"\"\"TODO\"\"\"\n",
    "    parsed_messages: dict[type, list] = dict()\n",
    "    for line in lines:\n",
    "        header: AuvMessageHeader = parse_message_header(line).unwrap()\n",
    "\n",
    "        if header.topic not in TOPIC_TO_TYPE:\n",
    "            continue\n",
    "\n",
    "        message_type: type = TOPIC_TO_TYPE[header.topic]\n",
    "        message: type = MESSAGE_TYPE_TO_PARSER[message_type](line).unwrap()\n",
    "\n",
    "        if message_type not in parsed_messages:\n",
    "            parsed_messages[message_type] = list()\n",
    "\n",
    "        parsed_messages[message_type].append(message)\n",
    "\n",
    "    return parsed_messages\n",
    "\n",
    "\n",
    "parsed_messages: dict = parse_messages(lines)\n",
    "\n",
    "for message_type, messages in parsed_messages.items():\n",
    "    logger.info(f\"{message_type}: {len(messages)}\")\n",
    "\n",
    "for message_type, messages in parsed_messages.items():\n",
    "    logger.info(\"\")\n",
    "    logger.info(f\"{messages[0]}\")"
   ]
  }
 ],
 "metadata": {
  "kernelspec": {
   "display_name": "Python 3 (ipykernel)",
   "language": "python",
   "name": "python3"
  },
  "language_info": {
   "codemirror_mode": {
    "name": "ipython",
    "version": 3
   },
   "file_extension": ".py",
   "mimetype": "text/x-python",
   "name": "python",
   "nbconvert_exporter": "python",
   "pygments_lexer": "ipython3",
   "version": "3.12.5"
  }
 },
 "nbformat": 4,
 "nbformat_minor": 5
}
