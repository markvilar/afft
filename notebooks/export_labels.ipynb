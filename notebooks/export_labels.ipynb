{
 "cells": [
  {
   "cell_type": "code",
   "execution_count": null,
   "id": "e0797295-0171-4f8f-957f-8d5da69f11f1",
   "metadata": {},
   "outputs": [],
   "source": [
    "from pathlib import Path\n",
    "\n",
    "from afft.utils.log import logger\n",
    "from afft.utils.result import Result\n",
    "\n",
    "from afft import io"
   ]
  },
  {
   "cell_type": "code",
   "execution_count": null,
   "id": "198f56aa-3c62-4abb-ad12-9510a6d43e12",
   "metadata": {},
   "outputs": [],
   "source": [
    "def export_revisit_site_labels(input_file: Path, output_directory: Path) -> None:\n",
    "    \"\"\"Export the label components of each visit to a site.\"\"\"\n",
    "\n",
    "    read_result: Result[dict, str] = io.read_config(input_file)\n",
    "    if read_result.is_err():\n",
    "        logger.error(read_result.err())\n",
    "\n",
    "    logger.info(f\"loaded file: {input_file}\")\n",
    "    site_data: dict = read_result.ok()\n",
    "\n",
    "    _site_name: str = site_data[\"site\"]\n",
    "\n",
    "    for visit in site_data[\"visits\"]:\n",
    "        visit_data: dict = site_data[\"visits\"][visit]\n",
    "\n",
    "        label_components: dict = visit_data[\"components\"][\"label\"]\n",
    "        labels: list[str] = list(label_components.values())\n",
    "\n",
    "        logger.info(f\"visit: {visit}, labels: {len(labels)}\")\n",
    "\n",
    "        output_path: Path = output_directory / f\"{visit}_camera_labels.txt\"\n",
    "\n",
    "        write_result: Result[Path, str] = io.write_file(labels, output_path)\n",
    "        if write_result.is_err():\n",
    "            logger.error(write_result.err())\n",
    "\n",
    "        logger.info(f\"wrote labels to file: {write_result.ok()}\")"
   ]
  },
  {
   "cell_type": "markdown",
   "id": "91fc7eab-c58d-43ff-8931-84256b26561d",
   "metadata": {},
   "source": [
    "### Export visit labels for all files"
   ]
  },
  {
   "cell_type": "code",
   "execution_count": null,
   "id": "2391516e-3f18-4781-97e4-25baa6cf6143",
   "metadata": {
    "scrolled": true
   },
   "outputs": [],
   "source": [
    "device: Path = Path(\"/media/martin/pcie_01\")\n",
    "input_directory: Path = Path(\"acfr_revisits_processed/acfr_updated_index_files\")\n",
    "output_directory: Path = Path(\"acfr_revisits_processed/acfr_camera_labels\")\n",
    "\n",
    "filenames: list[str] = [\n",
    "    \"qd61g27j_index.json\",\n",
    "    \"qdc5ghs3_index.json\",\n",
    "    \"qdch0ftq_index.json\",\n",
    "    \"qdchdmy1_index.json\",\n",
    "    \"qtqxshxs_index.json\",\n",
    "    \"r7jjskxq_index.json\",\n",
    "    \"r7jjss8n_index.json\",\n",
    "    \"r7jjssbh_index.json\",\n",
    "    \"r23m7ms0_index.json\",\n",
    "    \"r29mrd5h_index.json\",\n",
    "    \"r29mrd12_index.json\",\n",
    "    \"r234xgje_index.json\",\n",
    "    \"r23685bc_index.json\",\n",
    "]\n",
    "\n",
    "for filename in filenames:\n",
    "    input_file: Path = device / input_directory / filename\n",
    "    export_revisit_site_labels(input_file, device / output_directory)"
   ]
  }
 ],
 "metadata": {
  "kernelspec": {
   "display_name": "Python 3 (ipykernel)",
   "language": "python",
   "name": "python3"
  },
  "language_info": {
   "codemirror_mode": {
    "name": "ipython",
    "version": 3
   },
   "file_extension": ".py",
   "mimetype": "text/x-python",
   "name": "python",
   "nbconvert_exporter": "python",
   "pygments_lexer": "ipython3",
   "version": "3.12.5"
  }
 },
 "nbformat": 4,
 "nbformat_minor": 5
}
