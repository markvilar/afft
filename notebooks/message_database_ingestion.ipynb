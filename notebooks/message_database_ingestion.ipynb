{
 "cells": [
  {
   "cell_type": "markdown",
   "id": "69ad2f40-8075-4e68-a1ff-718d18134b2f",
   "metadata": {},
   "source": [
    "### Import various libraries and packages"
   ]
  },
  {
   "cell_type": "code",
   "execution_count": null,
   "id": "0323f0b7-766b-4332-a4ce-6e7ca1058041",
   "metadata": {},
   "outputs": [],
   "source": [
    "from afft.utils.log import logger"
   ]
  },
  {
   "cell_type": "markdown",
   "id": "ca37cceb-19ae-489e-a6b3-6a91643b7d17",
   "metadata": {},
   "source": [
    "### Create SQL engine\n",
    "Create a SQL engine with SQLalchemy. Note that the engine has not connected to the database yet."
   ]
  },
  {
   "cell_type": "code",
   "execution_count": null,
   "id": "e2b4d4fd-b512-4290-b698-1cd4279737b1",
   "metadata": {},
   "outputs": [],
   "source": [
    "import sqlalchemy as db\n",
    "\n",
    "from dotenv import dotenv_values\n",
    "\n",
    "\n",
    "values = dotenv_values(\"/home/martin/dev/afft/.env\")\n",
    "\n",
    "\n",
    "url: db.engine.URL = db.engine.URL.create(\n",
    "    drivername=\"postgresql\",\n",
    "    database=\"acfr_auv_revisits\",\n",
    "    host=\"localhost\",\n",
    "    port=5432,\n",
    "    username=values.get(\"PG_USER\"),\n",
    "    password=values.get(\"PG_PASSWORD\"),\n",
    ")\n",
    "\n",
    "engine: db.Engine = db.create_engine(url)"
   ]
  },
  {
   "cell_type": "markdown",
   "id": "df22c93b-bad5-4664-864b-2ff021d3ffb3",
   "metadata": {},
   "source": [
    "### Connect to database\n",
    "To start interacting with the database you can be explicit and use the connect method."
   ]
  },
  {
   "cell_type": "code",
   "execution_count": null,
   "id": "93951f40-a52e-4e67-aded-2e051f205d7b",
   "metadata": {},
   "outputs": [],
   "source": [
    "from sqlalchemy.exc import OperationalError\n",
    "\n",
    "if False:\n",
    "    try:\n",
    "        engine.connect()\n",
    "    except (OperationalError, OSError, IOError) as error:\n",
    "        logger.error(error)"
   ]
  },
  {
   "cell_type": "markdown",
   "id": "87af2f00-7c72-4d3e-b5cc-20fd86ce5dfd",
   "metadata": {},
   "source": [
    "### Read and parse messages"
   ]
  },
  {
   "cell_type": "code",
   "execution_count": null,
   "id": "93e32697-d8e1-463d-8556-77e91ec7042f",
   "metadata": {},
   "outputs": [],
   "source": [
    "from pathlib import Path\n",
    "\n",
    "from afft.io import read_config, read_lines\n",
    "from afft.services.sirius.message_interfaces import Message\n",
    "from afft.services.sirius.message_set import (\n",
    "    MessageSet,\n",
    "    build_message_set,\n",
    "    parse_message_lines,\n",
    ")\n",
    "from afft.utils.log import logger\n",
    "\n",
    "\n",
    "def parse_messages(source: str, config: str) -> dict[str, Message]:\n",
    "    \"\"\"Reads message lines from a source and parses the messages.\"\"\"\n",
    "\n",
    "    config: dict = read_config(Path(config)).unwrap()\n",
    "    lines: list[str] = read_lines(Path(source)).unwrap()\n",
    "\n",
    "    message_set: MessageSet = build_message_set(config.get(\"message_maps\"))\n",
    "    parsed_messages: dict[str, Message] = parse_message_lines(lines, message_set)\n",
    "\n",
    "    return parsed_messages\n",
    "\n",
    "\n",
    "MESSAGE_DIR: Path = Path(\n",
    "    \"/home/martin/data/acfr_revisits_messages/acfr_merged_messages\"\n",
    ")\n",
    "MESSAGE_FILE: Path = MESSAGE_DIR / Path(\"r23685bc_20100605_021022_messages.txt\")\n",
    "PROTOCOL_FILE: Path = Path(\"/home/martin/dev/afft/config/protocol/protocol_v1.toml\")\n",
    "\n",
    "parsed_messages: dict[str, Message] = parse_messages(MESSAGE_FILE, PROTOCOL_FILE)\n",
    "\n",
    "for topic, messages in parsed_messages.items():\n",
    "    logger.info(f\"Topic: {topic}, message count: {len(messages)}\")\n",
    "\n",
    "for topic, messages in parsed_messages.items():\n",
    "    logger.info(f\"Topic: {topic}, sample: {messages[0]}\")"
   ]
  },
  {
   "cell_type": "markdown",
   "id": "7b2a6a0d-6b93-4214-b440-80cf98dbd590",
   "metadata": {},
   "source": [
    "### Create tables\n",
    "To create tables, extract metadata from"
   ]
  },
  {
   "cell_type": "code",
   "execution_count": null,
   "id": "05edae66-7abf-4630-b3e2-16254fddcc2e",
   "metadata": {},
   "outputs": [],
   "source": [
    "with engine.begin() as connection:\n",
    "    metadata = db.MetaData()  # extracting the metadata\n",
    "\n",
    "    logger.info(metadata)\n",
    "\n",
    "    student = db.Table(\n",
    "        \"test\",\n",
    "        metadata,\n",
    "        db.Column(\"id\", db.Integer(), primary_key=True),\n",
    "        db.Column(\"name\", db.String(255), nullable=False),\n",
    "        db.Column(\"major\", db.String(255), default=\"Math\"),\n",
    "        db.Column(\"passed\", db.Boolean(), default=True),\n",
    "    )\n",
    "\n",
    "    # Create the tables\n",
    "    metadata.create_all(engine)"
   ]
  },
  {
   "cell_type": "markdown",
   "id": "0ada69d8-18b3-411a-926f-1b6ea866c7ce",
   "metadata": {},
   "source": [
    "### Load table"
   ]
  },
  {
   "cell_type": "code",
   "execution_count": null,
   "id": "02067465-908f-473e-8c21-7d01ff00e9c1",
   "metadata": {},
   "outputs": [],
   "source": [
    "# division= db.Table('divisions', metadata, autoload_with=engine)\n",
    "query = db.insert(student).values(id=1, name=\"Matthew\", major=\"English\", passed=True)\n",
    "result = connection.execute(query)"
   ]
  }
 ],
 "metadata": {
  "kernelspec": {
   "display_name": "Python 3 (ipykernel)",
   "language": "python",
   "name": "python3"
  },
  "language_info": {
   "codemirror_mode": {
    "name": "ipython",
    "version": 3
   },
   "file_extension": ".py",
   "mimetype": "text/x-python",
   "name": "python",
   "nbconvert_exporter": "python",
   "pygments_lexer": "ipython3",
   "version": "3.12.5"
  }
 },
 "nbformat": 4,
 "nbformat_minor": 5
}
