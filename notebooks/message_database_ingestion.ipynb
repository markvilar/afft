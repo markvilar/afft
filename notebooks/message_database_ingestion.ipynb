{
 "cells": [
  {
   "cell_type": "markdown",
   "id": "69ad2f40-8075-4e68-a1ff-718d18134b2f",
   "metadata": {},
   "source": [
    "### Import various libraries and packages"
   ]
  },
  {
   "cell_type": "code",
   "execution_count": null,
   "id": "0323f0b7-766b-4332-a4ce-6e7ca1058041",
   "metadata": {},
   "outputs": [],
   "source": [
    "from afft.utils.log import logger"
   ]
  },
  {
   "cell_type": "markdown",
   "id": "ca37cceb-19ae-489e-a6b3-6a91643b7d17",
   "metadata": {},
   "source": [
    "### Create SQL engine\n",
    "Create a SQL engine with SQLalchemy. Note that the engine has not connected to the database yet."
   ]
  },
  {
   "cell_type": "code",
   "execution_count": null,
   "id": "e2b4d4fd-b512-4290-b698-1cd4279737b1",
   "metadata": {},
   "outputs": [],
   "source": [
    "import sqlalchemy as db\n",
    "\n",
    "from dotenv import dotenv_values\n",
    "from afft.utils.log import logger\n",
    "\n",
    "\n",
    "values = dotenv_values(\"/home/martin/dev/afft/.env\")\n",
    "\n",
    "\n",
    "url: db.engine.URL = db.engine.URL.create(\n",
    "    drivername=\"postgresql\",\n",
    "    database=\"acfr_auv_messages\",\n",
    "    host=\"localhost\",\n",
    "    port=5432,\n",
    "    username=values.get(\"PG_USER\"),\n",
    "    password=values.get(\"PG_PASSWORD\"),\n",
    ")\n",
    "\n",
    "logger.info(f\"Creating engine: {url}\")\n",
    "\n",
    "engine: db.Engine = db.create_engine(url)"
   ]
  },
  {
   "cell_type": "markdown",
   "id": "df22c93b-bad5-4664-864b-2ff021d3ffb3",
   "metadata": {},
   "source": [
    "### Connect to database\n",
    "To start interacting with the database you can be explicit and use the connect method."
   ]
  },
  {
   "cell_type": "code",
   "execution_count": null,
   "id": "93951f40-a52e-4e67-aded-2e051f205d7b",
   "metadata": {},
   "outputs": [],
   "source": [
    "from sqlalchemy.exc import OperationalError\n",
    "\n",
    "if False:\n",
    "    try:\n",
    "        engine.connect()\n",
    "    except (OperationalError, OSError, IOError) as error:\n",
    "        logger.error(error)"
   ]
  },
  {
   "cell_type": "markdown",
   "id": "87af2f00-7c72-4d3e-b5cc-20fd86ce5dfd",
   "metadata": {},
   "source": [
    "### Read and parse messages"
   ]
  },
  {
   "cell_type": "code",
   "execution_count": null,
   "id": "93e32697-d8e1-463d-8556-77e91ec7042f",
   "metadata": {},
   "outputs": [],
   "source": [
    "from pathlib import Path\n",
    "\n",
    "from afft.io import read_config, read_lines\n",
    "from afft.services.sirius import Message\n",
    "from afft.services.sirius import (\n",
    "    MessageProtocol,\n",
    "    build_message_protocol,\n",
    "    parse_message_lines,\n",
    ")\n",
    "from afft.utils.log import logger\n",
    "\n",
    "\n",
    "def parse_messages(source: str, config: str) -> dict[str, Message]:\n",
    "    \"\"\"Reads message lines from a source and parses the messages.\"\"\"\n",
    "\n",
    "    config: dict = read_config(Path(config)).unwrap()\n",
    "    lines: list[str] = read_lines(Path(source)).unwrap()\n",
    "\n",
    "    protocol: MessageProtocol = build_message_protocol(config.get(\"message_maps\"))\n",
    "    parsed_messages: dict[str, Message] = parse_message_lines(lines, protocol)\n",
    "\n",
    "    return parsed_messages\n",
    "\n",
    "\n",
    "MESSAGE_DIR: Path = Path(\n",
    "    \"/home/martin/data/acfr_revisits_messages/acfr_merged_messages\"\n",
    ")\n",
    "MESSAGE_FILE: Path = MESSAGE_DIR / Path(\"r23685bc_20100605_021022_messages.txt\")\n",
    "PROTOCOL_FILE: Path = Path(\"/home/martin/dev/afft/config/protocol/protocol_v1.toml\")\n",
    "\n",
    "parsed_messages: dict[str, Message] = parse_messages(MESSAGE_FILE, PROTOCOL_FILE)\n",
    "\n",
    "for topic, messages in parsed_messages.items():\n",
    "    logger.info(f\"Topic: {topic}, message count: {len(messages)}\")"
   ]
  },
  {
   "cell_type": "markdown",
   "id": "065ac1a8-9979-4fe4-9600-0dbe8da3dee1",
   "metadata": {},
   "source": [
    "### Test"
   ]
  },
  {
   "cell_type": "code",
   "execution_count": null,
   "id": "5ae8f27b-8aa8-46d0-a951-d60b2489b7b9",
   "metadata": {},
   "outputs": [],
   "source": [
    "for topic, messages in parsed_messages.items():\n",
    "    data = messages[0].header.to_dict()\n",
    "    data.update(messages[0].body.to_dict())\n",
    "\n",
    "    logger.info(data)\n",
    "    logger.info(messages[0].to_dict())"
   ]
  },
  {
   "cell_type": "markdown",
   "id": "d4e4918a-eaeb-4805-a72c-e66b5fba3c84",
   "metadata": {},
   "source": [
    "### Convert dataclasses to data frames with polars"
   ]
  },
  {
   "cell_type": "code",
   "execution_count": null,
   "id": "74d82174-4b61-4531-a618-4559c0a6c6a0",
   "metadata": {},
   "outputs": [],
   "source": [
    "import polars as pl\n",
    "\n",
    "dataframes: dict[str, pl.DataFrame] = dict()\n",
    "\n",
    "for topic, messages in parsed_messages.items():\n",
    "    # Convert dataclasses to dictionaries\n",
    "    data: list[dict] = [message.to_dict() for message in messages]\n",
    "\n",
    "    # Convert dictionaries to dataframe\n",
    "    dataframes[topic] = pl.DataFrame(data)"
   ]
  },
  {
   "cell_type": "markdown",
   "id": "7b2a6a0d-6b93-4214-b440-80cf98dbd590",
   "metadata": {},
   "source": [
    "### Create table and ingest dataframes with polars"
   ]
  },
  {
   "cell_type": "code",
   "execution_count": null,
   "id": "a0ab94cf-374e-4bed-b451-2b3b9e77f457",
   "metadata": {},
   "outputs": [],
   "source": [
    "with engine.begin() as connection:\n",
    "    for topic, dataframe in dataframes.items():\n",
    "        status: int = dataframe.write_database(\n",
    "            table_name=topic,\n",
    "            connection=connection,\n",
    "            # connection: ConnectionOrCursor | str,\n",
    "            # if_table_exists: DbWriteMode = 'fail',\n",
    "            # engine: DbWriteEngine | None = None,\n",
    "            # engine_options: dict[str, Any] | None = None,\n",
    "        )\n",
    "\n",
    "        logger.info(f\"Database write - topic: {topic}, status: {status}\")"
   ]
  }
 ],
 "metadata": {
  "kernelspec": {
   "display_name": "Python 3 (ipykernel)",
   "language": "python",
   "name": "python3"
  },
  "language_info": {
   "codemirror_mode": {
    "name": "ipython",
    "version": 3
   },
   "file_extension": ".py",
   "mimetype": "text/x-python",
   "name": "python",
   "nbconvert_exporter": "python",
   "pygments_lexer": "ipython3",
   "version": "3.12.6"
  }
 },
 "nbformat": 4,
 "nbformat_minor": 5
}
