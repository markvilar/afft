{
 "cells": [
  {
   "cell_type": "markdown",
   "id": "69ad2f40-8075-4e68-a1ff-718d18134b2f",
   "metadata": {},
   "source": [
    "### Import various libraries and packages"
   ]
  },
  {
   "cell_type": "code",
   "execution_count": 1,
   "id": "0323f0b7-766b-4332-a4ce-6e7ca1058041",
   "metadata": {},
   "outputs": [],
   "source": [
    "from afft.utils.log import logger"
   ]
  },
  {
   "cell_type": "markdown",
   "id": "ca37cceb-19ae-489e-a6b3-6a91643b7d17",
   "metadata": {},
   "source": [
    "### Create SQL engine\n",
    "Create a SQL engine with SQLalchemy. Note that the engine has not connected to the database yet."
   ]
  },
  {
   "cell_type": "code",
   "execution_count": 2,
   "id": "e2b4d4fd-b512-4290-b698-1cd4279737b1",
   "metadata": {},
   "outputs": [],
   "source": [
    "import sqlalchemy as db\n",
    "\n",
    "from dotenv import dotenv_values\n",
    "\n",
    "\n",
    "values = dotenv_values(\"/home/martin/dev/afft/.env\")\n",
    "\n",
    "\n",
    "url: db.engine.URL = db.engine.URL.create(\n",
    "    drivername=\"postgresql\",\n",
    "    database=\"acfr_auv_revisits\",\n",
    "    host=\"localhost\",\n",
    "    port=5432,\n",
    "    username=values.get(\"PG_USER\"),\n",
    "    password=values.get(\"PG_PASSWORD\"),\n",
    ")\n",
    "\n",
    "engine: db.Engine = db.create_engine(url)"
   ]
  },
  {
   "cell_type": "markdown",
   "id": "df22c93b-bad5-4664-864b-2ff021d3ffb3",
   "metadata": {},
   "source": [
    "### Connect to database\n",
    "To start interacting with the database you can be explicit and use the connect method."
   ]
  },
  {
   "cell_type": "code",
   "execution_count": 3,
   "id": "93951f40-a52e-4e67-aded-2e051f205d7b",
   "metadata": {},
   "outputs": [],
   "source": [
    "from sqlalchemy.exc import OperationalError\n",
    "\n",
    "if False:\n",
    "    try:\n",
    "        engine.connect()\n",
    "    except (OperationalError, OSError, IOError) as error:\n",
    "        logger.error(error)"
   ]
  },
  {
   "cell_type": "markdown",
   "id": "87af2f00-7c72-4d3e-b5cc-20fd86ce5dfd",
   "metadata": {},
   "source": [
    "### Read and parse messages"
   ]
  },
  {
   "cell_type": "code",
   "execution_count": 4,
   "id": "93e32697-d8e1-463d-8556-77e91ec7042f",
   "metadata": {},
   "outputs": [
    {
     "name": "stderr",
     "output_type": "stream",
     "text": [
      "\u001b[32m2024-09-14 10:34:26.182\u001b[0m | \u001b[1mINFO    \u001b[0m | \u001b[36m__main__\u001b[0m:\u001b[36m<module>\u001b[0m:\u001b[36m34\u001b[0m - \u001b[1mTopic: OAS, message count: 36076\u001b[0m\n",
      "\u001b[32m2024-09-14 10:34:26.183\u001b[0m | \u001b[1mINFO    \u001b[0m | \u001b[36m__main__\u001b[0m:\u001b[36m<module>\u001b[0m:\u001b[36m34\u001b[0m - \u001b[1mTopic: PAROSCI, message count: 8521\u001b[0m\n",
      "\u001b[32m2024-09-14 10:34:26.183\u001b[0m | \u001b[1mINFO    \u001b[0m | \u001b[36m__main__\u001b[0m:\u001b[36m<module>\u001b[0m:\u001b[36m34\u001b[0m - \u001b[1mTopic: ECOPUCK, message count: 9792\u001b[0m\n",
      "\u001b[32m2024-09-14 10:34:26.184\u001b[0m | \u001b[1mINFO    \u001b[0m | \u001b[36m__main__\u001b[0m:\u001b[36m<module>\u001b[0m:\u001b[36m34\u001b[0m - \u001b[1mTopic: BATT, message count: 2378\u001b[0m\n",
      "\u001b[32m2024-09-14 10:34:26.184\u001b[0m | \u001b[1mINFO    \u001b[0m | \u001b[36m__main__\u001b[0m:\u001b[36m<module>\u001b[0m:\u001b[36m34\u001b[0m - \u001b[1mTopic: RDI, message count: 66345\u001b[0m\n",
      "\u001b[32m2024-09-14 10:34:26.184\u001b[0m | \u001b[1mINFO    \u001b[0m | \u001b[36m__main__\u001b[0m:\u001b[36m<module>\u001b[0m:\u001b[36m34\u001b[0m - \u001b[1mTopic: SEABIRD, message count: 8835\u001b[0m\n",
      "\u001b[32m2024-09-14 10:34:26.185\u001b[0m | \u001b[1mINFO    \u001b[0m | \u001b[36m__main__\u001b[0m:\u001b[36m<module>\u001b[0m:\u001b[36m34\u001b[0m - \u001b[1mTopic: LQMODEM, message count: 1433\u001b[0m\n",
      "\u001b[32m2024-09-14 10:34:26.186\u001b[0m | \u001b[1mINFO    \u001b[0m | \u001b[36m__main__\u001b[0m:\u001b[36m<module>\u001b[0m:\u001b[36m34\u001b[0m - \u001b[1mTopic: THR_STBD, message count: 104978\u001b[0m\n",
      "\u001b[32m2024-09-14 10:34:26.186\u001b[0m | \u001b[1mINFO    \u001b[0m | \u001b[36m__main__\u001b[0m:\u001b[36m<module>\u001b[0m:\u001b[36m34\u001b[0m - \u001b[1mTopic: THR_PORT, message count: 104978\u001b[0m\n",
      "\u001b[32m2024-09-14 10:34:26.186\u001b[0m | \u001b[1mINFO    \u001b[0m | \u001b[36m__main__\u001b[0m:\u001b[36m<module>\u001b[0m:\u001b[36m34\u001b[0m - \u001b[1mTopic: THR_VERT, message count: 104977\u001b[0m\n",
      "\u001b[32m2024-09-14 10:34:26.186\u001b[0m | \u001b[1mINFO    \u001b[0m | \u001b[36m__main__\u001b[0m:\u001b[36m<module>\u001b[0m:\u001b[36m34\u001b[0m - \u001b[1mTopic: VIS, message count: 20122\u001b[0m\n"
     ]
    }
   ],
   "source": [
    "from pathlib import Path\n",
    "\n",
    "from afft.io import read_config, read_lines\n",
    "from afft.services.sirius import Message\n",
    "from afft.services.sirius import (\n",
    "    MessageProtocol,\n",
    "    build_message_protocol,\n",
    "    parse_message_lines,\n",
    ")\n",
    "from afft.utils.log import logger\n",
    "\n",
    "\n",
    "def parse_messages(source: str, config: str) -> dict[str, Message]:\n",
    "    \"\"\"Reads message lines from a source and parses the messages.\"\"\"\n",
    "\n",
    "    config: dict = read_config(Path(config)).unwrap()\n",
    "    lines: list[str] = read_lines(Path(source)).unwrap()\n",
    "\n",
    "    protocol: MessageProtocol = build_message_protocol(config.get(\"message_maps\"))\n",
    "    parsed_messages: dict[str, Message] = parse_message_lines(lines, protocol)\n",
    "\n",
    "    return parsed_messages\n",
    "\n",
    "\n",
    "MESSAGE_DIR: Path = Path(\n",
    "    \"/home/martin/data/acfr_revisits_messages/acfr_merged_messages\"\n",
    ")\n",
    "MESSAGE_FILE: Path = MESSAGE_DIR / Path(\"r23685bc_20100605_021022_messages.txt\")\n",
    "PROTOCOL_FILE: Path = Path(\"/home/martin/dev/afft/config/protocol/protocol_v1.toml\")\n",
    "\n",
    "parsed_messages: dict[str, Message] = parse_messages(MESSAGE_FILE, PROTOCOL_FILE)\n",
    "\n",
    "for topic, messages in parsed_messages.items():\n",
    "    logger.info(f\"Topic: {topic}, message count: {len(messages)}\")"
   ]
  },
  {
   "cell_type": "markdown",
   "id": "065ac1a8-9979-4fe4-9600-0dbe8da3dee1",
   "metadata": {},
   "source": [
    "### Test"
   ]
  },
  {
   "cell_type": "code",
   "execution_count": 5,
   "id": "5ae8f27b-8aa8-46d0-a951-d60b2489b7b9",
   "metadata": {},
   "outputs": [
    {
     "name": "stderr",
     "output_type": "stream",
     "text": [
      "\u001b[32m2024-09-14 10:34:26.191\u001b[0m | \u001b[1mINFO    \u001b[0m | \u001b[36m__main__\u001b[0m:\u001b[36m<module>\u001b[0m:\u001b[36m5\u001b[0m - \u001b[1m{'topic': 'OAS', 'timestamp': 1275703822.703, 'profile_range': 0.98, 'profile_altitude': 0.07, 'pseudo_forward_distance': 0.69}\u001b[0m\n",
      "\u001b[32m2024-09-14 10:34:26.192\u001b[0m | \u001b[1mINFO    \u001b[0m | \u001b[36m__main__\u001b[0m:\u001b[36m<module>\u001b[0m:\u001b[36m6\u001b[0m - \u001b[1m{'topic': 'OAS', 'timestamp': 1275703822.703, 'profile_range': 0.98, 'profile_altitude': 0.07, 'pseudo_forward_distance': 0.69}\u001b[0m\n",
      "\u001b[32m2024-09-14 10:34:26.193\u001b[0m | \u001b[1mINFO    \u001b[0m | \u001b[36m__main__\u001b[0m:\u001b[36m<module>\u001b[0m:\u001b[36m5\u001b[0m - \u001b[1m{'topic': 'PAROSCI', 'timestamp': 1275703823.031, 'depth': 1.4397}\u001b[0m\n",
      "\u001b[32m2024-09-14 10:34:26.193\u001b[0m | \u001b[1mINFO    \u001b[0m | \u001b[36m__main__\u001b[0m:\u001b[36m<module>\u001b[0m:\u001b[36m6\u001b[0m - \u001b[1m{'topic': 'PAROSCI', 'timestamp': 1275703823.031, 'depth': 1.4397}\u001b[0m\n",
      "\u001b[32m2024-09-14 10:34:26.194\u001b[0m | \u001b[1mINFO    \u001b[0m | \u001b[36m__main__\u001b[0m:\u001b[36m<module>\u001b[0m:\u001b[36m5\u001b[0m - \u001b[1m{'topic': 'ECOPUCK', 'timestamp': 1275703824.087, 'chlorophyll': 0.686, 'backscatter': 0.000365, 'cdom': 1.904, 'temperature': -10.0}\u001b[0m\n",
      "\u001b[32m2024-09-14 10:34:26.194\u001b[0m | \u001b[1mINFO    \u001b[0m | \u001b[36m__main__\u001b[0m:\u001b[36m<module>\u001b[0m:\u001b[36m6\u001b[0m - \u001b[1m{'topic': 'ECOPUCK', 'timestamp': 1275703824.087, 'chlorophyll': 0.686, 'backscatter': 0.000365, 'cdom': 1.904, 'temperature': -10.0}\u001b[0m\n",
      "\u001b[32m2024-09-14 10:34:26.194\u001b[0m | \u001b[1mINFO    \u001b[0m | \u001b[36m__main__\u001b[0m:\u001b[36m<module>\u001b[0m:\u001b[36m5\u001b[0m - \u001b[1m{'topic': 'BATT', 'timestamp': 1275703827.759, 'label': 'battery', 'time_left': 730, 'current': -5.375, 'voltage': 15.6, 'power': 83.800003, 'charge_percent': 76, 'charging': False}\u001b[0m\n",
      "\u001b[32m2024-09-14 10:34:26.195\u001b[0m | \u001b[1mINFO    \u001b[0m | \u001b[36m__main__\u001b[0m:\u001b[36m<module>\u001b[0m:\u001b[36m6\u001b[0m - \u001b[1m{'topic': 'BATT', 'timestamp': 1275703827.759, 'label': 'battery', 'time_left': 730, 'current': -5.375, 'voltage': 15.6, 'power': 83.800003, 'charge_percent': 76, 'charging': False}\u001b[0m\n",
      "\u001b[32m2024-09-14 10:34:26.195\u001b[0m | \u001b[1mINFO    \u001b[0m | \u001b[36m__main__\u001b[0m:\u001b[36m<module>\u001b[0m:\u001b[36m5\u001b[0m - \u001b[1m{'topic': 'RDI', 'timestamp': 1275703827.984, 'altitude': 0.0, 'range_01': 0.0, 'range_02': 0.0, 'range_03': 0.0, 'range_04': 0.0, 'heading': 140.5, 'pitch': 2.11, 'roll': 3.96, 'velocity_x': 0.0, 'velocity_y': 0.0, 'velocity_z': 0.0, 'dmg_x': 0.0, 'dmg_y': 0.0, 'dmg_z': 0.0, 'course_over_ground': 0.0, 'speed_over_ground': 0.0, 'true_heading': 140.5, 'gimbal_pitch': 2.105, 'sound_velocity': 1501.0, 'bottom_track_status': 136}\u001b[0m\n",
      "\u001b[32m2024-09-14 10:34:26.195\u001b[0m | \u001b[1mINFO    \u001b[0m | \u001b[36m__main__\u001b[0m:\u001b[36m<module>\u001b[0m:\u001b[36m6\u001b[0m - \u001b[1m{'topic': 'RDI', 'timestamp': 1275703827.984, 'altitude': 0.0, 'range_01': 0.0, 'range_02': 0.0, 'range_03': 0.0, 'range_04': 0.0, 'heading': 140.5, 'pitch': 2.11, 'roll': 3.96, 'velocity_x': 0.0, 'velocity_y': 0.0, 'velocity_z': 0.0, 'dmg_x': 0.0, 'dmg_y': 0.0, 'dmg_z': 0.0, 'course_over_ground': 0.0, 'speed_over_ground': 0.0, 'true_heading': 140.5, 'gimbal_pitch': 2.105, 'sound_velocity': 1501.0, 'bottom_track_status': 136}\u001b[0m\n",
      "\u001b[32m2024-09-14 10:34:26.196\u001b[0m | \u001b[1mINFO    \u001b[0m | \u001b[36m__main__\u001b[0m:\u001b[36m<module>\u001b[0m:\u001b[36m5\u001b[0m - \u001b[1m{'topic': 'SEABIRD', 'timestamp': 1275703828.091, 'conductivity': 4.227, 'temperature': 14.093, 'salinity': 35.227, 'pressure': 0.0, 'sound_velocity': 1504.042}\u001b[0m\n",
      "\u001b[32m2024-09-14 10:34:26.196\u001b[0m | \u001b[1mINFO    \u001b[0m | \u001b[36m__main__\u001b[0m:\u001b[36m<module>\u001b[0m:\u001b[36m6\u001b[0m - \u001b[1m{'topic': 'SEABIRD', 'timestamp': 1275703828.091, 'conductivity': 4.227, 'temperature': 14.093, 'salinity': 35.227, 'pressure': 0.0, 'sound_velocity': 1504.042}\u001b[0m\n",
      "\u001b[32m2024-09-14 10:34:26.196\u001b[0m | \u001b[1mINFO    \u001b[0m | \u001b[36m__main__\u001b[0m:\u001b[36m<module>\u001b[0m:\u001b[36m5\u001b[0m - \u001b[1m{'topic': 'LQMODEM', 'timestamp': 1275703848.399, 'latitude': -43.133674622, 'longitude': 148.008331299, 'roll': -0.1, 'pitch': -0.0, 'heading': 52.0, 'time': 1275703808.0, 'bearing': 204.2, 'range': 33.8}\u001b[0m\n",
      "\u001b[32m2024-09-14 10:34:26.196\u001b[0m | \u001b[1mINFO    \u001b[0m | \u001b[36m__main__\u001b[0m:\u001b[36m<module>\u001b[0m:\u001b[36m6\u001b[0m - \u001b[1m{'topic': 'LQMODEM', 'timestamp': 1275703848.399, 'latitude': -43.133674622, 'longitude': 148.008331299, 'roll': -0.1, 'pitch': -0.0, 'heading': 52.0, 'time': 1275703808.0, 'bearing': 204.2, 'range': 33.8}\u001b[0m\n",
      "\u001b[32m2024-09-14 10:34:26.197\u001b[0m | \u001b[1mINFO    \u001b[0m | \u001b[36m__main__\u001b[0m:\u001b[36m<module>\u001b[0m:\u001b[36m5\u001b[0m - \u001b[1m{'topic': 'THR_STBD', 'timestamp': 1275703900.859, 'label': 'thruster_starboard', 'rpm': 0.0, 'current': 0.09, 'voltage': 46.3, 'temperature': 14.0}\u001b[0m\n",
      "\u001b[32m2024-09-14 10:34:26.197\u001b[0m | \u001b[1mINFO    \u001b[0m | \u001b[36m__main__\u001b[0m:\u001b[36m<module>\u001b[0m:\u001b[36m6\u001b[0m - \u001b[1m{'topic': 'THR_STBD', 'timestamp': 1275703900.859, 'label': 'thruster_starboard', 'rpm': 0.0, 'current': 0.09, 'voltage': 46.3, 'temperature': 14.0}\u001b[0m\n",
      "\u001b[32m2024-09-14 10:34:26.198\u001b[0m | \u001b[1mINFO    \u001b[0m | \u001b[36m__main__\u001b[0m:\u001b[36m<module>\u001b[0m:\u001b[36m5\u001b[0m - \u001b[1m{'topic': 'THR_PORT', 'timestamp': 1275703900.859, 'label': 'thruster_portside', 'rpm': 0.0, 'current': 0.0, 'voltage': 46.5, 'temperature': 13.0}\u001b[0m\n",
      "\u001b[32m2024-09-14 10:34:26.199\u001b[0m | \u001b[1mINFO    \u001b[0m | \u001b[36m__main__\u001b[0m:\u001b[36m<module>\u001b[0m:\u001b[36m6\u001b[0m - \u001b[1m{'topic': 'THR_PORT', 'timestamp': 1275703900.859, 'label': 'thruster_portside', 'rpm': 0.0, 'current': 0.0, 'voltage': 46.5, 'temperature': 13.0}\u001b[0m\n",
      "\u001b[32m2024-09-14 10:34:26.199\u001b[0m | \u001b[1mINFO    \u001b[0m | \u001b[36m__main__\u001b[0m:\u001b[36m<module>\u001b[0m:\u001b[36m5\u001b[0m - \u001b[1m{'topic': 'THR_VERT', 'timestamp': 1275703901.159, 'label': 'thruster_vertical', 'rpm': 0.0, 'current': 0.01, 'voltage': 46.6, 'temperature': 13.0}\u001b[0m\n",
      "\u001b[32m2024-09-14 10:34:26.200\u001b[0m | \u001b[1mINFO    \u001b[0m | \u001b[36m__main__\u001b[0m:\u001b[36m<module>\u001b[0m:\u001b[36m6\u001b[0m - \u001b[1m{'topic': 'THR_VERT', 'timestamp': 1275703901.159, 'label': 'thruster_vertical', 'rpm': 0.0, 'current': 0.01, 'voltage': 46.6, 'temperature': 13.0}\u001b[0m\n",
      "\u001b[32m2024-09-14 10:34:26.200\u001b[0m | \u001b[1mINFO    \u001b[0m | \u001b[36m__main__\u001b[0m:\u001b[36m<module>\u001b[0m:\u001b[36m5\u001b[0m - \u001b[1m{'topic': 'VIS', 'timestamp': 1275704063.284, 'label': 'PR_20100605_021423_250_RM16', 'filename': 'PR_20100605_021423_250_RM16.pgm', 'trigger_time': 1275704063.25035, 'exposure_logged': False, 'exposure': 0}\u001b[0m\n",
      "\u001b[32m2024-09-14 10:34:26.201\u001b[0m | \u001b[1mINFO    \u001b[0m | \u001b[36m__main__\u001b[0m:\u001b[36m<module>\u001b[0m:\u001b[36m6\u001b[0m - \u001b[1m{'topic': 'VIS', 'timestamp': 1275704063.284, 'label': 'PR_20100605_021423_250_RM16', 'filename': 'PR_20100605_021423_250_RM16.pgm', 'trigger_time': 1275704063.25035, 'exposure_logged': False, 'exposure': 0}\u001b[0m\n"
     ]
    }
   ],
   "source": [
    "for topic, messages in parsed_messages.items():\n",
    "    data = messages[0].header.to_dict()\n",
    "    data.update(messages[0].body.to_dict())\n",
    "\n",
    "    logger.info(data)\n",
    "    logger.info(messages[0].to_dict())"
   ]
  },
  {
   "cell_type": "markdown",
   "id": "d4e4918a-eaeb-4805-a72c-e66b5fba3c84",
   "metadata": {},
   "source": [
    "### Convert dataclasses to data frames with polars"
   ]
  },
  {
   "cell_type": "code",
   "execution_count": 10,
   "id": "74d82174-4b61-4531-a618-4559c0a6c6a0",
   "metadata": {},
   "outputs": [],
   "source": [
    "import polars as pl\n",
    "\n",
    "dataframes: dict[str, pl.DataFrame] = dict()\n",
    "\n",
    "for topic, messages in parsed_messages.items():\n",
    "    # Convert dataclasses to dictionaries\n",
    "    data: list[dict] = [message.to_dict() for message in messages]\n",
    "\n",
    "    # Convert dictionaries to dataframe\n",
    "    dataframes[topic] = pl.DataFrame(data)"
   ]
  },
  {
   "cell_type": "markdown",
   "id": "7b2a6a0d-6b93-4214-b440-80cf98dbd590",
   "metadata": {},
   "source": [
    "### Create table and ingest dataframes with polars"
   ]
  },
  {
   "cell_type": "code",
   "execution_count": 11,
   "id": "a0ab94cf-374e-4bed-b451-2b3b9e77f457",
   "metadata": {},
   "outputs": [
    {
     "ename": "ValueError",
     "evalue": "Table 'OAS' already exists.",
     "output_type": "error",
     "traceback": [
      "\u001b[0;31m---------------------------------------------------------------------------\u001b[0m",
      "\u001b[0;31mValueError\u001b[0m                                Traceback (most recent call last)",
      "Cell \u001b[0;32mIn[11], line 3\u001b[0m\n\u001b[1;32m      1\u001b[0m \u001b[38;5;28;01mwith\u001b[39;00m engine\u001b[38;5;241m.\u001b[39mbegin() \u001b[38;5;28;01mas\u001b[39;00m connection:\n\u001b[1;32m      2\u001b[0m     \u001b[38;5;28;01mfor\u001b[39;00m topic, dataframe \u001b[38;5;129;01min\u001b[39;00m dataframes\u001b[38;5;241m.\u001b[39mitems():\n\u001b[0;32m----> 3\u001b[0m         status: \u001b[38;5;28mint\u001b[39m \u001b[38;5;241m=\u001b[39m \u001b[43mdataframe\u001b[49m\u001b[38;5;241;43m.\u001b[39;49m\u001b[43mwrite_database\u001b[49m\u001b[43m(\u001b[49m\n\u001b[1;32m      4\u001b[0m \u001b[43m            \u001b[49m\u001b[43mtable_name\u001b[49m\u001b[38;5;241;43m=\u001b[39;49m\u001b[43mtopic\u001b[49m\u001b[43m,\u001b[49m\n\u001b[1;32m      5\u001b[0m \u001b[43m            \u001b[49m\u001b[43mconnection\u001b[49m\u001b[38;5;241;43m=\u001b[39;49m\u001b[43mconnection\u001b[49m\u001b[43m,\u001b[49m\n\u001b[1;32m      6\u001b[0m \u001b[43m            \u001b[49m\u001b[38;5;66;43;03m# connection: ConnectionOrCursor | str,\u001b[39;49;00m\n\u001b[1;32m      7\u001b[0m \u001b[43m            \u001b[49m\u001b[38;5;66;43;03m# if_table_exists: DbWriteMode = 'fail',\u001b[39;49;00m\n\u001b[1;32m      8\u001b[0m \u001b[43m            \u001b[49m\u001b[38;5;66;43;03m# engine: DbWriteEngine | None = None,\u001b[39;49;00m\n\u001b[1;32m      9\u001b[0m \u001b[43m            \u001b[49m\u001b[38;5;66;43;03m# engine_options: dict[str, Any] | None = None,\u001b[39;49;00m\n\u001b[1;32m     10\u001b[0m \u001b[43m        \u001b[49m\u001b[43m)\u001b[49m\n\u001b[1;32m     12\u001b[0m         logger\u001b[38;5;241m.\u001b[39minfo(\u001b[38;5;124mf\u001b[39m\u001b[38;5;124m\"\u001b[39m\u001b[38;5;124mDatabase write - topic: \u001b[39m\u001b[38;5;132;01m{\u001b[39;00mtopic\u001b[38;5;132;01m}\u001b[39;00m\u001b[38;5;124m, status: \u001b[39m\u001b[38;5;132;01m{\u001b[39;00mstatus\u001b[38;5;132;01m}\u001b[39;00m\u001b[38;5;124m\"\u001b[39m)\n",
      "File \u001b[0;32m~/.cache/pypoetry/virtualenvs/afft-Ol9SVwPq-py3.12/lib/python3.12/site-packages/polars/_utils/deprecation.py:135\u001b[0m, in \u001b[0;36mdeprecate_renamed_parameter.<locals>.decorate.<locals>.wrapper\u001b[0;34m(*args, **kwargs)\u001b[0m\n\u001b[1;32m    130\u001b[0m \u001b[38;5;129m@wraps\u001b[39m(function)\n\u001b[1;32m    131\u001b[0m \u001b[38;5;28;01mdef\u001b[39;00m \u001b[38;5;21mwrapper\u001b[39m(\u001b[38;5;241m*\u001b[39margs: P\u001b[38;5;241m.\u001b[39margs, \u001b[38;5;241m*\u001b[39m\u001b[38;5;241m*\u001b[39mkwargs: P\u001b[38;5;241m.\u001b[39mkwargs) \u001b[38;5;241m-\u001b[39m\u001b[38;5;241m>\u001b[39m T:\n\u001b[1;32m    132\u001b[0m     _rename_keyword_argument(\n\u001b[1;32m    133\u001b[0m         old_name, new_name, kwargs, function\u001b[38;5;241m.\u001b[39m\u001b[38;5;18m__name__\u001b[39m, version\n\u001b[1;32m    134\u001b[0m     )\n\u001b[0;32m--> 135\u001b[0m     \u001b[38;5;28;01mreturn\u001b[39;00m \u001b[43mfunction\u001b[49m\u001b[43m(\u001b[49m\u001b[38;5;241;43m*\u001b[39;49m\u001b[43margs\u001b[49m\u001b[43m,\u001b[49m\u001b[43m \u001b[49m\u001b[38;5;241;43m*\u001b[39;49m\u001b[38;5;241;43m*\u001b[39;49m\u001b[43mkwargs\u001b[49m\u001b[43m)\u001b[49m\n",
      "File \u001b[0;32m~/.cache/pypoetry/virtualenvs/afft-Ol9SVwPq-py3.12/lib/python3.12/site-packages/polars/dataframe/frame.py:3497\u001b[0m, in \u001b[0;36mDataFrame.write_database\u001b[0;34m(self, table_name, connection, if_table_exists, engine, engine_options)\u001b[0m\n\u001b[1;32m   3493\u001b[0m         \u001b[38;5;28;01mraise\u001b[39;00m \u001b[38;5;167;01mValueError\u001b[39;00m(msg)\n\u001b[1;32m   3495\u001b[0m     \u001b[38;5;66;03m# ensure conversion to pandas uses the pyarrow extension array option\u001b[39;00m\n\u001b[1;32m   3496\u001b[0m     \u001b[38;5;66;03m# so that we can make use of the sql/db export *without* copying data\u001b[39;00m\n\u001b[0;32m-> 3497\u001b[0m     res: \u001b[38;5;28mint\u001b[39m \u001b[38;5;241m|\u001b[39m \u001b[38;5;28;01mNone\u001b[39;00m \u001b[38;5;241m=\u001b[39m \u001b[38;5;28;43mself\u001b[39;49m\u001b[38;5;241;43m.\u001b[39;49m\u001b[43mto_pandas\u001b[49m\u001b[43m(\u001b[49m\n\u001b[1;32m   3498\u001b[0m \u001b[43m        \u001b[49m\u001b[43muse_pyarrow_extension_array\u001b[49m\u001b[38;5;241;43m=\u001b[39;49m\u001b[38;5;28;43;01mTrue\u001b[39;49;00m\u001b[43m,\u001b[49m\n\u001b[1;32m   3499\u001b[0m \u001b[43m    \u001b[49m\u001b[43m)\u001b[49m\u001b[38;5;241;43m.\u001b[39;49m\u001b[43mto_sql\u001b[49m\u001b[43m(\u001b[49m\n\u001b[1;32m   3500\u001b[0m \u001b[43m        \u001b[49m\u001b[43mname\u001b[49m\u001b[38;5;241;43m=\u001b[39;49m\u001b[43munpacked_table_name\u001b[49m\u001b[43m,\u001b[49m\n\u001b[1;32m   3501\u001b[0m \u001b[43m        \u001b[49m\u001b[43mschema\u001b[49m\u001b[38;5;241;43m=\u001b[39;49m\u001b[43mdb_schema\u001b[49m\u001b[43m,\u001b[49m\n\u001b[1;32m   3502\u001b[0m \u001b[43m        \u001b[49m\u001b[43mcon\u001b[49m\u001b[38;5;241;43m=\u001b[39;49m\u001b[43mengine_sa\u001b[49m\u001b[43m,\u001b[49m\n\u001b[1;32m   3503\u001b[0m \u001b[43m        \u001b[49m\u001b[43mif_exists\u001b[49m\u001b[38;5;241;43m=\u001b[39;49m\u001b[43mif_table_exists\u001b[49m\u001b[43m,\u001b[49m\n\u001b[1;32m   3504\u001b[0m \u001b[43m        \u001b[49m\u001b[43mindex\u001b[49m\u001b[38;5;241;43m=\u001b[39;49m\u001b[38;5;28;43;01mFalse\u001b[39;49;00m\u001b[43m,\u001b[49m\n\u001b[1;32m   3505\u001b[0m \u001b[43m        \u001b[49m\u001b[38;5;241;43m*\u001b[39;49m\u001b[38;5;241;43m*\u001b[39;49m\u001b[43m(\u001b[49m\u001b[43mengine_options\u001b[49m\u001b[43m \u001b[49m\u001b[38;5;129;43;01mor\u001b[39;49;00m\u001b[43m \u001b[49m\u001b[43m{\u001b[49m\u001b[43m}\u001b[49m\u001b[43m)\u001b[49m\u001b[43m,\u001b[49m\n\u001b[1;32m   3506\u001b[0m \u001b[43m    \u001b[49m\u001b[43m)\u001b[49m\n\u001b[1;32m   3507\u001b[0m     \u001b[38;5;28;01mreturn\u001b[39;00m \u001b[38;5;241m-\u001b[39m\u001b[38;5;241m1\u001b[39m \u001b[38;5;28;01mif\u001b[39;00m res \u001b[38;5;129;01mis\u001b[39;00m \u001b[38;5;28;01mNone\u001b[39;00m \u001b[38;5;28;01melse\u001b[39;00m res\n\u001b[1;32m   3509\u001b[0m \u001b[38;5;28;01melif\u001b[39;00m \u001b[38;5;28misinstance\u001b[39m(engine, \u001b[38;5;28mstr\u001b[39m):\n",
      "File \u001b[0;32m~/.cache/pypoetry/virtualenvs/afft-Ol9SVwPq-py3.12/lib/python3.12/site-packages/pandas/util/_decorators.py:333\u001b[0m, in \u001b[0;36mdeprecate_nonkeyword_arguments.<locals>.decorate.<locals>.wrapper\u001b[0;34m(*args, **kwargs)\u001b[0m\n\u001b[1;32m    327\u001b[0m \u001b[38;5;28;01mif\u001b[39;00m \u001b[38;5;28mlen\u001b[39m(args) \u001b[38;5;241m>\u001b[39m num_allow_args:\n\u001b[1;32m    328\u001b[0m     warnings\u001b[38;5;241m.\u001b[39mwarn(\n\u001b[1;32m    329\u001b[0m         msg\u001b[38;5;241m.\u001b[39mformat(arguments\u001b[38;5;241m=\u001b[39m_format_argument_list(allow_args)),\n\u001b[1;32m    330\u001b[0m         \u001b[38;5;167;01mFutureWarning\u001b[39;00m,\n\u001b[1;32m    331\u001b[0m         stacklevel\u001b[38;5;241m=\u001b[39mfind_stack_level(),\n\u001b[1;32m    332\u001b[0m     )\n\u001b[0;32m--> 333\u001b[0m \u001b[38;5;28;01mreturn\u001b[39;00m \u001b[43mfunc\u001b[49m\u001b[43m(\u001b[49m\u001b[38;5;241;43m*\u001b[39;49m\u001b[43margs\u001b[49m\u001b[43m,\u001b[49m\u001b[43m \u001b[49m\u001b[38;5;241;43m*\u001b[39;49m\u001b[38;5;241;43m*\u001b[39;49m\u001b[43mkwargs\u001b[49m\u001b[43m)\u001b[49m\n",
      "File \u001b[0;32m~/.cache/pypoetry/virtualenvs/afft-Ol9SVwPq-py3.12/lib/python3.12/site-packages/pandas/core/generic.py:3087\u001b[0m, in \u001b[0;36mNDFrame.to_sql\u001b[0;34m(self, name, con, schema, if_exists, index, index_label, chunksize, dtype, method)\u001b[0m\n\u001b[1;32m   2889\u001b[0m \u001b[38;5;250m\u001b[39m\u001b[38;5;124;03m\"\"\"\u001b[39;00m\n\u001b[1;32m   2890\u001b[0m \u001b[38;5;124;03mWrite records stored in a DataFrame to a SQL database.\u001b[39;00m\n\u001b[1;32m   2891\u001b[0m \n\u001b[0;32m   (...)\u001b[0m\n\u001b[1;32m   3083\u001b[0m \u001b[38;5;124;03m[(1,), (None,), (2,)]\u001b[39;00m\n\u001b[1;32m   3084\u001b[0m \u001b[38;5;124;03m\"\"\"\u001b[39;00m  \u001b[38;5;66;03m# noqa: E501\u001b[39;00m\n\u001b[1;32m   3085\u001b[0m \u001b[38;5;28;01mfrom\u001b[39;00m \u001b[38;5;21;01mpandas\u001b[39;00m\u001b[38;5;21;01m.\u001b[39;00m\u001b[38;5;21;01mio\u001b[39;00m \u001b[38;5;28;01mimport\u001b[39;00m sql\n\u001b[0;32m-> 3087\u001b[0m \u001b[38;5;28;01mreturn\u001b[39;00m \u001b[43msql\u001b[49m\u001b[38;5;241;43m.\u001b[39;49m\u001b[43mto_sql\u001b[49m\u001b[43m(\u001b[49m\n\u001b[1;32m   3088\u001b[0m \u001b[43m    \u001b[49m\u001b[38;5;28;43mself\u001b[39;49m\u001b[43m,\u001b[49m\n\u001b[1;32m   3089\u001b[0m \u001b[43m    \u001b[49m\u001b[43mname\u001b[49m\u001b[43m,\u001b[49m\n\u001b[1;32m   3090\u001b[0m \u001b[43m    \u001b[49m\u001b[43mcon\u001b[49m\u001b[43m,\u001b[49m\n\u001b[1;32m   3091\u001b[0m \u001b[43m    \u001b[49m\u001b[43mschema\u001b[49m\u001b[38;5;241;43m=\u001b[39;49m\u001b[43mschema\u001b[49m\u001b[43m,\u001b[49m\n\u001b[1;32m   3092\u001b[0m \u001b[43m    \u001b[49m\u001b[43mif_exists\u001b[49m\u001b[38;5;241;43m=\u001b[39;49m\u001b[43mif_exists\u001b[49m\u001b[43m,\u001b[49m\n\u001b[1;32m   3093\u001b[0m \u001b[43m    \u001b[49m\u001b[43mindex\u001b[49m\u001b[38;5;241;43m=\u001b[39;49m\u001b[43mindex\u001b[49m\u001b[43m,\u001b[49m\n\u001b[1;32m   3094\u001b[0m \u001b[43m    \u001b[49m\u001b[43mindex_label\u001b[49m\u001b[38;5;241;43m=\u001b[39;49m\u001b[43mindex_label\u001b[49m\u001b[43m,\u001b[49m\n\u001b[1;32m   3095\u001b[0m \u001b[43m    \u001b[49m\u001b[43mchunksize\u001b[49m\u001b[38;5;241;43m=\u001b[39;49m\u001b[43mchunksize\u001b[49m\u001b[43m,\u001b[49m\n\u001b[1;32m   3096\u001b[0m \u001b[43m    \u001b[49m\u001b[43mdtype\u001b[49m\u001b[38;5;241;43m=\u001b[39;49m\u001b[43mdtype\u001b[49m\u001b[43m,\u001b[49m\n\u001b[1;32m   3097\u001b[0m \u001b[43m    \u001b[49m\u001b[43mmethod\u001b[49m\u001b[38;5;241;43m=\u001b[39;49m\u001b[43mmethod\u001b[49m\u001b[43m,\u001b[49m\n\u001b[1;32m   3098\u001b[0m \u001b[43m\u001b[49m\u001b[43m)\u001b[49m\n",
      "File \u001b[0;32m~/.cache/pypoetry/virtualenvs/afft-Ol9SVwPq-py3.12/lib/python3.12/site-packages/pandas/io/sql.py:842\u001b[0m, in \u001b[0;36mto_sql\u001b[0;34m(frame, name, con, schema, if_exists, index, index_label, chunksize, dtype, method, engine, **engine_kwargs)\u001b[0m\n\u001b[1;32m    837\u001b[0m     \u001b[38;5;28;01mraise\u001b[39;00m \u001b[38;5;167;01mNotImplementedError\u001b[39;00m(\n\u001b[1;32m    838\u001b[0m         \u001b[38;5;124m\"\u001b[39m\u001b[38;5;124m'\u001b[39m\u001b[38;5;124mframe\u001b[39m\u001b[38;5;124m'\u001b[39m\u001b[38;5;124m argument should be either a Series or a DataFrame\u001b[39m\u001b[38;5;124m\"\u001b[39m\n\u001b[1;32m    839\u001b[0m     )\n\u001b[1;32m    841\u001b[0m \u001b[38;5;28;01mwith\u001b[39;00m pandasSQL_builder(con, schema\u001b[38;5;241m=\u001b[39mschema, need_transaction\u001b[38;5;241m=\u001b[39m\u001b[38;5;28;01mTrue\u001b[39;00m) \u001b[38;5;28;01mas\u001b[39;00m pandas_sql:\n\u001b[0;32m--> 842\u001b[0m     \u001b[38;5;28;01mreturn\u001b[39;00m \u001b[43mpandas_sql\u001b[49m\u001b[38;5;241;43m.\u001b[39;49m\u001b[43mto_sql\u001b[49m\u001b[43m(\u001b[49m\n\u001b[1;32m    843\u001b[0m \u001b[43m        \u001b[49m\u001b[43mframe\u001b[49m\u001b[43m,\u001b[49m\n\u001b[1;32m    844\u001b[0m \u001b[43m        \u001b[49m\u001b[43mname\u001b[49m\u001b[43m,\u001b[49m\n\u001b[1;32m    845\u001b[0m \u001b[43m        \u001b[49m\u001b[43mif_exists\u001b[49m\u001b[38;5;241;43m=\u001b[39;49m\u001b[43mif_exists\u001b[49m\u001b[43m,\u001b[49m\n\u001b[1;32m    846\u001b[0m \u001b[43m        \u001b[49m\u001b[43mindex\u001b[49m\u001b[38;5;241;43m=\u001b[39;49m\u001b[43mindex\u001b[49m\u001b[43m,\u001b[49m\n\u001b[1;32m    847\u001b[0m \u001b[43m        \u001b[49m\u001b[43mindex_label\u001b[49m\u001b[38;5;241;43m=\u001b[39;49m\u001b[43mindex_label\u001b[49m\u001b[43m,\u001b[49m\n\u001b[1;32m    848\u001b[0m \u001b[43m        \u001b[49m\u001b[43mschema\u001b[49m\u001b[38;5;241;43m=\u001b[39;49m\u001b[43mschema\u001b[49m\u001b[43m,\u001b[49m\n\u001b[1;32m    849\u001b[0m \u001b[43m        \u001b[49m\u001b[43mchunksize\u001b[49m\u001b[38;5;241;43m=\u001b[39;49m\u001b[43mchunksize\u001b[49m\u001b[43m,\u001b[49m\n\u001b[1;32m    850\u001b[0m \u001b[43m        \u001b[49m\u001b[43mdtype\u001b[49m\u001b[38;5;241;43m=\u001b[39;49m\u001b[43mdtype\u001b[49m\u001b[43m,\u001b[49m\n\u001b[1;32m    851\u001b[0m \u001b[43m        \u001b[49m\u001b[43mmethod\u001b[49m\u001b[38;5;241;43m=\u001b[39;49m\u001b[43mmethod\u001b[49m\u001b[43m,\u001b[49m\n\u001b[1;32m    852\u001b[0m \u001b[43m        \u001b[49m\u001b[43mengine\u001b[49m\u001b[38;5;241;43m=\u001b[39;49m\u001b[43mengine\u001b[49m\u001b[43m,\u001b[49m\n\u001b[1;32m    853\u001b[0m \u001b[43m        \u001b[49m\u001b[38;5;241;43m*\u001b[39;49m\u001b[38;5;241;43m*\u001b[39;49m\u001b[43mengine_kwargs\u001b[49m\u001b[43m,\u001b[49m\n\u001b[1;32m    854\u001b[0m \u001b[43m    \u001b[49m\u001b[43m)\u001b[49m\n",
      "File \u001b[0;32m~/.cache/pypoetry/virtualenvs/afft-Ol9SVwPq-py3.12/lib/python3.12/site-packages/pandas/io/sql.py:2008\u001b[0m, in \u001b[0;36mSQLDatabase.to_sql\u001b[0;34m(self, frame, name, if_exists, index, index_label, schema, chunksize, dtype, method, engine, **engine_kwargs)\u001b[0m\n\u001b[1;32m   1958\u001b[0m \u001b[38;5;250m\u001b[39m\u001b[38;5;124;03m\"\"\"\u001b[39;00m\n\u001b[1;32m   1959\u001b[0m \u001b[38;5;124;03mWrite records stored in a DataFrame to a SQL database.\u001b[39;00m\n\u001b[1;32m   1960\u001b[0m \n\u001b[0;32m   (...)\u001b[0m\n\u001b[1;32m   2004\u001b[0m \u001b[38;5;124;03m    Any additional kwargs are passed to the engine.\u001b[39;00m\n\u001b[1;32m   2005\u001b[0m \u001b[38;5;124;03m\"\"\"\u001b[39;00m\n\u001b[1;32m   2006\u001b[0m sql_engine \u001b[38;5;241m=\u001b[39m get_engine(engine)\n\u001b[0;32m-> 2008\u001b[0m table \u001b[38;5;241m=\u001b[39m \u001b[38;5;28;43mself\u001b[39;49m\u001b[38;5;241;43m.\u001b[39;49m\u001b[43mprep_table\u001b[49m\u001b[43m(\u001b[49m\n\u001b[1;32m   2009\u001b[0m \u001b[43m    \u001b[49m\u001b[43mframe\u001b[49m\u001b[38;5;241;43m=\u001b[39;49m\u001b[43mframe\u001b[49m\u001b[43m,\u001b[49m\n\u001b[1;32m   2010\u001b[0m \u001b[43m    \u001b[49m\u001b[43mname\u001b[49m\u001b[38;5;241;43m=\u001b[39;49m\u001b[43mname\u001b[49m\u001b[43m,\u001b[49m\n\u001b[1;32m   2011\u001b[0m \u001b[43m    \u001b[49m\u001b[43mif_exists\u001b[49m\u001b[38;5;241;43m=\u001b[39;49m\u001b[43mif_exists\u001b[49m\u001b[43m,\u001b[49m\n\u001b[1;32m   2012\u001b[0m \u001b[43m    \u001b[49m\u001b[43mindex\u001b[49m\u001b[38;5;241;43m=\u001b[39;49m\u001b[43mindex\u001b[49m\u001b[43m,\u001b[49m\n\u001b[1;32m   2013\u001b[0m \u001b[43m    \u001b[49m\u001b[43mindex_label\u001b[49m\u001b[38;5;241;43m=\u001b[39;49m\u001b[43mindex_label\u001b[49m\u001b[43m,\u001b[49m\n\u001b[1;32m   2014\u001b[0m \u001b[43m    \u001b[49m\u001b[43mschema\u001b[49m\u001b[38;5;241;43m=\u001b[39;49m\u001b[43mschema\u001b[49m\u001b[43m,\u001b[49m\n\u001b[1;32m   2015\u001b[0m \u001b[43m    \u001b[49m\u001b[43mdtype\u001b[49m\u001b[38;5;241;43m=\u001b[39;49m\u001b[43mdtype\u001b[49m\u001b[43m,\u001b[49m\n\u001b[1;32m   2016\u001b[0m \u001b[43m\u001b[49m\u001b[43m)\u001b[49m\n\u001b[1;32m   2018\u001b[0m total_inserted \u001b[38;5;241m=\u001b[39m sql_engine\u001b[38;5;241m.\u001b[39minsert_records(\n\u001b[1;32m   2019\u001b[0m     table\u001b[38;5;241m=\u001b[39mtable,\n\u001b[1;32m   2020\u001b[0m     con\u001b[38;5;241m=\u001b[39m\u001b[38;5;28mself\u001b[39m\u001b[38;5;241m.\u001b[39mcon,\n\u001b[0;32m   (...)\u001b[0m\n\u001b[1;32m   2027\u001b[0m     \u001b[38;5;241m*\u001b[39m\u001b[38;5;241m*\u001b[39mengine_kwargs,\n\u001b[1;32m   2028\u001b[0m )\n\u001b[1;32m   2030\u001b[0m \u001b[38;5;28mself\u001b[39m\u001b[38;5;241m.\u001b[39mcheck_case_sensitive(name\u001b[38;5;241m=\u001b[39mname, schema\u001b[38;5;241m=\u001b[39mschema)\n",
      "File \u001b[0;32m~/.cache/pypoetry/virtualenvs/afft-Ol9SVwPq-py3.12/lib/python3.12/site-packages/pandas/io/sql.py:1912\u001b[0m, in \u001b[0;36mSQLDatabase.prep_table\u001b[0;34m(self, frame, name, if_exists, index, index_label, schema, dtype)\u001b[0m\n\u001b[1;32m   1900\u001b[0m             \u001b[38;5;28;01mraise\u001b[39;00m \u001b[38;5;167;01mValueError\u001b[39;00m(\u001b[38;5;124mf\u001b[39m\u001b[38;5;124m\"\u001b[39m\u001b[38;5;124mThe type of \u001b[39m\u001b[38;5;132;01m{\u001b[39;00mcol\u001b[38;5;132;01m}\u001b[39;00m\u001b[38;5;124m is not a SQLAlchemy type\u001b[39m\u001b[38;5;124m\"\u001b[39m)\n\u001b[1;32m   1902\u001b[0m table \u001b[38;5;241m=\u001b[39m SQLTable(\n\u001b[1;32m   1903\u001b[0m     name,\n\u001b[1;32m   1904\u001b[0m     \u001b[38;5;28mself\u001b[39m,\n\u001b[0;32m   (...)\u001b[0m\n\u001b[1;32m   1910\u001b[0m     dtype\u001b[38;5;241m=\u001b[39mdtype,\n\u001b[1;32m   1911\u001b[0m )\n\u001b[0;32m-> 1912\u001b[0m \u001b[43mtable\u001b[49m\u001b[38;5;241;43m.\u001b[39;49m\u001b[43mcreate\u001b[49m\u001b[43m(\u001b[49m\u001b[43m)\u001b[49m\n\u001b[1;32m   1913\u001b[0m \u001b[38;5;28;01mreturn\u001b[39;00m table\n",
      "File \u001b[0;32m~/.cache/pypoetry/virtualenvs/afft-Ol9SVwPq-py3.12/lib/python3.12/site-packages/pandas/io/sql.py:986\u001b[0m, in \u001b[0;36mSQLTable.create\u001b[0;34m(self)\u001b[0m\n\u001b[1;32m    984\u001b[0m \u001b[38;5;28;01mif\u001b[39;00m \u001b[38;5;28mself\u001b[39m\u001b[38;5;241m.\u001b[39mexists():\n\u001b[1;32m    985\u001b[0m     \u001b[38;5;28;01mif\u001b[39;00m \u001b[38;5;28mself\u001b[39m\u001b[38;5;241m.\u001b[39mif_exists \u001b[38;5;241m==\u001b[39m \u001b[38;5;124m\"\u001b[39m\u001b[38;5;124mfail\u001b[39m\u001b[38;5;124m\"\u001b[39m:\n\u001b[0;32m--> 986\u001b[0m         \u001b[38;5;28;01mraise\u001b[39;00m \u001b[38;5;167;01mValueError\u001b[39;00m(\u001b[38;5;124mf\u001b[39m\u001b[38;5;124m\"\u001b[39m\u001b[38;5;124mTable \u001b[39m\u001b[38;5;124m'\u001b[39m\u001b[38;5;132;01m{\u001b[39;00m\u001b[38;5;28mself\u001b[39m\u001b[38;5;241m.\u001b[39mname\u001b[38;5;132;01m}\u001b[39;00m\u001b[38;5;124m'\u001b[39m\u001b[38;5;124m already exists.\u001b[39m\u001b[38;5;124m\"\u001b[39m)\n\u001b[1;32m    987\u001b[0m     \u001b[38;5;28;01mif\u001b[39;00m \u001b[38;5;28mself\u001b[39m\u001b[38;5;241m.\u001b[39mif_exists \u001b[38;5;241m==\u001b[39m \u001b[38;5;124m\"\u001b[39m\u001b[38;5;124mreplace\u001b[39m\u001b[38;5;124m\"\u001b[39m:\n\u001b[1;32m    988\u001b[0m         \u001b[38;5;28mself\u001b[39m\u001b[38;5;241m.\u001b[39mpd_sql\u001b[38;5;241m.\u001b[39mdrop_table(\u001b[38;5;28mself\u001b[39m\u001b[38;5;241m.\u001b[39mname, \u001b[38;5;28mself\u001b[39m\u001b[38;5;241m.\u001b[39mschema)\n",
      "\u001b[0;31mValueError\u001b[0m: Table 'OAS' already exists."
     ]
    }
   ],
   "source": [
    "with engine.begin() as connection:\n",
    "    for topic, dataframe in dataframes.items():\n",
    "        status: int = dataframe.write_database(\n",
    "            table_name=topic,\n",
    "            connection=connection,\n",
    "            # connection: ConnectionOrCursor | str,\n",
    "            # if_table_exists: DbWriteMode = 'fail',\n",
    "            # engine: DbWriteEngine | None = None,\n",
    "            # engine_options: dict[str, Any] | None = None,\n",
    "        )\n",
    "\n",
    "        logger.info(f\"Database write - topic: {topic}, status: {status}\")"
   ]
  }
 ],
 "metadata": {
  "kernelspec": {
   "display_name": "Python 3 (ipykernel)",
   "language": "python",
   "name": "python3"
  },
  "language_info": {
   "codemirror_mode": {
    "name": "ipython",
    "version": 3
   },
   "file_extension": ".py",
   "mimetype": "text/x-python",
   "name": "python",
   "nbconvert_exporter": "python",
   "pygments_lexer": "ipython3",
   "version": "3.12.5"
  }
 },
 "nbformat": 4,
 "nbformat_minor": 5
}
