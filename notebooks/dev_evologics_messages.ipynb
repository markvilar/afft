{
 "cells": [
  {
   "cell_type": "code",
   "execution_count": 1,
   "id": "b8790715-0d21-461e-8ca8-77002b159fe5",
   "metadata": {},
   "outputs": [],
   "source": [
    "import time\n",
    "\n",
    "from pathlib import Path\n",
    "\n",
    "import plotly.express as px\n",
    "import plotly.graph_objects as go\n",
    "import polars as pl\n",
    "\n",
    "from plotly.subplots import make_subplots\n",
    "from result import Result\n",
    "\n",
    "from raft.io import read_file\n",
    "\n",
    "from raft.utils.log import logger\n",
    "\n",
    "from raft.tasks.message_parsing.data_types import MessageParseData"
   ]
  },
  {
   "cell_type": "code",
   "execution_count": 2,
   "id": "8027fae3-6075-4ea6-9898-5f6a888d82ef",
   "metadata": {},
   "outputs": [],
   "source": [
    "from raft.services.sirius_messages import (\n",
    "    ImageCaptureMessage,\n",
    "    \n",
    "    SeabirdCTDMessage,\n",
    "    AanderaaCTDMessage,\n",
    "    EcopuckMessage,\n",
    "    \n",
    "    ParosciPressureMessage,\n",
    "    TeledyneDVLMessage,\n",
    "    LQModemMessage,\n",
    "    EvologicsModemMessage,\n",
    "\n",
    "    BatteryMessage,\n",
    "    ThrusterMessage,\n",
    ")\n",
    "\n",
    "from raft.services.sirius_messages import (\n",
    "    parse_message_header,\n",
    "    parse_image_message,\n",
    "\n",
    "    parse_seabird_ctd_message,\n",
    "    parse_aanderaa_ctd_message,\n",
    "    parse_ecopuck_message,\n",
    "\n",
    "    parse_parosci_pressure_message,\n",
    "    parse_teledyne_dvl_message,\n",
    "    parse_lq_modem_message,\n",
    "    parse_evologics_modem_message,\n",
    "\n",
    "    parse_battery_message,\n",
    "    parse_thruster_message,\n",
    ")"
   ]
  },
  {
   "cell_type": "markdown",
   "id": "1ee6cbe8-0583-481f-b901-ebb5cc235b30",
   "metadata": {},
   "source": [
    "### Load data"
   ]
  },
  {
   "cell_type": "code",
   "execution_count": 3,
   "id": "59310e0a-4b64-4def-84a4-765ebeb8a247",
   "metadata": {},
   "outputs": [
    {
     "name": "stderr",
     "output_type": "stream",
     "text": [
      "\u001b[32m2024-06-07 15:22:34.946\u001b[0m | \u001b[1mINFO    \u001b[0m | \u001b[36m__main__\u001b[0m:\u001b[36m<module>\u001b[0m:\u001b[36m36\u001b[0m - \u001b[1m<class 'raft.services.sirius_messages.data_types.EvologicsModemMessage'>: 75\u001b[0m\n"
     ]
    }
   ],
   "source": [
    "paths: dict = dict()\n",
    "\n",
    "paths[\"datadir\"] = Path(\"/media/martin/pcie_01/acfr_revisits_processed/acfr_merged_message_files\")\n",
    "paths[\"messages\"] = paths[\"datadir\"] / Path(\"qdc5ghs3_20210315_230947_messages.txt\")\n",
    "\n",
    "lines: list[str] = read_file(paths[\"messages\"]).unwrap()\n",
    "\n",
    "\n",
    "TOPIC_TO_PARSER: dict = {\n",
    "    \"EVOLOGICS_FIX\": parse_evologics_modem_message,\n",
    "}\n",
    "\n",
    "\n",
    "def parse_messages(lines: list[str], parsers: dict) -> dict:\n",
    "    \"\"\"TODO\"\"\"\n",
    "    parsed_messages: dict[type, object] = dict()\n",
    "    \n",
    "    for line in lines:\n",
    "        header = parse_message_header(line).unwrap()\n",
    "\n",
    "        if not header.topic in parsers:\n",
    "            continue\n",
    "\n",
    "        parsed: object = parsers[header.topic](line).unwrap()\n",
    "        \n",
    "        if not type(parsed) in parsed_messages:\n",
    "            parsed_messages[type(parsed)] = list()\n",
    "        else:\n",
    "            parsed_messages[type(parsed)].append(parsed)\n",
    "            \n",
    "    return parsed_messages\n",
    "\n",
    "parsed_messages: dict[type, list[object]] = parse_messages(lines, TOPIC_TO_PARSER)\n",
    "\n",
    "for message_type, messages in parsed_messages.items():\n",
    "    logger.info(f\"{message_type}: {len(messages)}\")"
   ]
  },
  {
   "cell_type": "markdown",
   "id": "41b54a12-7da2-4252-9c94-6694293a9246",
   "metadata": {},
   "source": [
    "### Define plot functions"
   ]
  },
  {
   "cell_type": "code",
   "execution_count": 20,
   "id": "a2f5b387-a52a-4aee-bee8-5c62b0e79030",
   "metadata": {},
   "outputs": [],
   "source": [
    "def plot_evologics_scatter(data: pl.DataFrame) -> None:\n",
    "    \"\"\"TODO\"\"\"\n",
    "    fig = px.scatter_mapbox(\n",
    "        data,\n",
    "        lat=\"target_latitude\",\n",
    "        lon=\"target_longitude\",\n",
    "        color=\"timestamp\",\n",
    "        size_max=15,\n",
    "        zoom=16,\n",
    "        height=600,\n",
    "        hover_data={\"target_depth\"},\n",
    "    )\n",
    "    \n",
    "    fig.update_layout(height=800, width=1000, mapbox_style=\"open-street-map\")\n",
    "    return fig"
   ]
  },
  {
   "cell_type": "markdown",
   "id": "09744a91-31d0-434c-bbc7-c4d2e3196523",
   "metadata": {},
   "source": [
    "### Format LQ Modem messages"
   ]
  },
  {
   "cell_type": "code",
   "execution_count": 21,
   "id": "0e553373-c97c-454e-a451-4d505711f2f3",
   "metadata": {},
   "outputs": [
    {
     "data": {
      "application/vnd.plotly.v1+json": {
       "config": {
        "plotlyServerURL": "https://plot.ly"
       },
       "data": [
        {
         "customdata": [
          [
           -3.071
          ],
          [
           -4.548
          ],
          [
           -4.604
          ],
          [
           -3.133
          ],
          [
           10.445
          ],
          [
           5.022
          ],
          [
           8.467
          ],
          [
           17.511
          ],
          [
           20.45
          ],
          [
           22.329
          ],
          [
           22.44
          ],
          [
           35.385
          ],
          [
           33.04
          ],
          [
           34.7
          ],
          [
           48.044
          ],
          [
           40.27
          ],
          [
           40.676
          ],
          [
           37.526
          ],
          [
           43.547
          ],
          [
           45.487
          ],
          [
           40.764
          ],
          [
           41.776
          ],
          [
           29.256
          ],
          [
           36.433
          ],
          [
           35.754
          ],
          [
           37.519
          ],
          [
           33.403
          ],
          [
           28.748
          ],
          [
           36.672
          ],
          [
           38.677
          ],
          [
           31.755
          ],
          [
           32.717
          ],
          [
           32.597
          ],
          [
           32.837
          ],
          [
           32.152
          ],
          [
           38.172
          ],
          [
           28.834
          ],
          [
           37.061
          ],
          [
           37.214
          ],
          [
           37.214
          ],
          [
           35.676
          ],
          [
           34.814
          ],
          [
           34.741
          ],
          [
           36.074
          ],
          [
           35.655
          ],
          [
           32.382
          ],
          [
           32.926
          ],
          [
           32.108
          ],
          [
           31.144
          ],
          [
           53.251
          ],
          [
           51.055
          ],
          [
           48.339
          ],
          [
           28.618
          ],
          [
           16.428
          ],
          [
           11.384
          ],
          [
           13.754
          ],
          [
           10.563
          ],
          [
           11.607
          ],
          [
           14.206
          ],
          [
           10.032
          ],
          [
           16.025
          ],
          [
           16.267
          ],
          [
           16.228
          ],
          [
           18.343
          ],
          [
           16.011
          ],
          [
           19.012
          ],
          [
           19.518
          ],
          [
           30.216
          ],
          [
           52.352
          ],
          [
           50.546
          ],
          [
           58.302
          ],
          [
           62.103
          ],
          [
           60.781
          ],
          [
           63.818
          ],
          [
           68.019
          ]
         ],
         "hovertemplate": "target_latitude=%{lat}<br>target_longitude=%{lon}<br>target_depth=%{customdata[0]}<br>timestamp=%{marker.color}<extra></extra>",
         "lat": [
          -28.847294172,
          -28.8472786,
          -28.847261722,
          -28.847254777,
          -28.847244173,
          -28.847219175,
          -28.847203731,
          -28.847212548,
          -28.847208708,
          -28.847198263,
          -28.847188266,
          -28.847167944,
          -28.847138851,
          -28.847109235,
          -28.847146893,
          -28.847103722,
          -28.847146531,
          -28.847190825,
          -28.847272032,
          -28.847308236,
          -28.847348467,
          -28.84740937,
          -28.847403126,
          -28.847469671,
          -28.847513071,
          -28.847564589,
          -28.84759327,
          -28.847618838,
          -28.847692816,
          -28.847807888,
          -28.847824011,
          -28.847884377,
          -28.847917669,
          -28.847921947,
          -28.847955476,
          -28.848023819,
          -28.848023092,
          -28.847595011,
          -28.847556418,
          -28.847556418,
          -28.847549205,
          -28.847478212,
          -28.84744066,
          -28.847455276,
          -28.847486382,
          -28.847504478,
          -28.847541772,
          -28.847568904,
          -28.847595675,
          -28.847235451,
          -28.847248832,
          -28.847281905,
          -28.847205968,
          -28.847154675,
          -28.847122166,
          -28.847127885,
          -28.847110345,
          -28.847088779,
          -28.847094934,
          -28.847082693,
          -28.847112723,
          -28.847071459,
          -28.847099658,
          -28.847074545,
          -28.847060822,
          -28.847050336,
          -28.847048051,
          -28.846956413,
          -28.846939621,
          -28.846947269,
          -28.84698768,
          -28.847014866,
          -28.847030506,
          -28.847065834,
          -28.847066834
         ],
         "legendgroup": "",
         "lon": [
          114.047245795,
          114.047255048,
          114.047261341,
          114.047278568,
          114.047275468,
          114.047255539,
          114.047262573,
          114.047276995,
          114.047292639,
          114.047301068,
          114.047318415,
          114.047334674,
          114.047341681,
          114.047327815,
          114.047329144,
          114.047344954,
          114.047357455,
          114.047344874,
          114.047326653,
          114.047277563,
          114.047256088,
          114.04724267,
          114.047231666,
          114.04719437,
          114.047167933,
          114.047138242,
          114.047120085,
          114.047096954,
          114.047050781,
          114.046997617,
          114.046984341,
          114.04694777,
          114.046938678,
          114.046896367,
          114.046861468,
          114.046799772,
          114.046794744,
          114.046910582,
          114.046935341,
          114.046935341,
          114.046949079,
          114.046990664,
          114.047028368,
          114.047026828,
          114.047002794,
          114.046978858,
          114.046933423,
          114.046895414,
          114.046858501,
          114.046176941,
          114.046054843,
          114.045973579,
          114.045783318,
          114.045729252,
          114.045681995,
          114.045615552,
          114.045563332,
          114.045516542,
          114.045283854,
          114.045225003,
          114.045149236,
          114.045106424,
          114.04501721,
          114.044965263,
          114.044907812,
          114.04474732,
          114.044681479,
          114.044314403,
          114.044143311,
          114.04408291,
          114.04408308,
          114.04397858,
          114.043906925,
          114.04386454,
          114.043833767
         ],
         "marker": {
          "color": [
           1615849848.499,
           1615849860.536,
           1615849871.833,
           1615849883.408,
           1615849900.594,
           1615849912.587,
           1615849934.603,
           1615849946.593,
           1615849958.596,
           1615849969.875,
           1615849981.632,
           1615850013.641,
           1615850025.652,
           1615850037.661,
           1615850049.637,
           1615850062.701,
           1615850074.673,
           1615850086.681,
           1615850098.672,
           1615850110.693,
           1615850122.679,
           1615850134.691,
           1615850146.696,
           1615850158.683,
           1615850170.681,
           1615850182.684,
           1615850194.68,
           1615850206.68,
           1615850218.688,
           1615850240.683,
           1615850252.689,
           1615850264.687,
           1615850276.697,
           1615850288.697,
           1615850300.703,
           1615850312.702,
           1615850324.717,
           1615852409.125,
           1615852419.396,
           1615852419.396,
           1615852429.45,
           1615852441.568,
           1615852454.135,
           1615852465.584,
           1615852477.595,
           1615852489.596,
           1615852501.603,
           1615852513.617,
           1615852525.613,
           1615854699.2,
           1615854722.264,
           1615854734.746,
           1615854766.753,
           1615854778.759,
           1615854790.763,
           1615854803.499,
           1615854815.778,
           1615854827.781,
           1615854869.792,
           1615854881.797,
           1615854893.8,
           1615854906.298,
           1615854918.807,
           1615854932.195,
           1615854944.418,
           1615854977.326,
           1615854989.749,
           1615855066.345,
           1615855108.878,
           1615855120.928,
           1615855133.27,
           1615855156.42,
           1615855168.252,
           1615855179.978,
           1615855199.024
          ],
          "coloraxis": "coloraxis"
         },
         "mode": "markers",
         "name": "",
         "showlegend": false,
         "subplot": "mapbox",
         "type": "scattermapbox"
        }
       ],
       "layout": {
        "coloraxis": {
         "colorbar": {
          "title": {
           "text": "timestamp"
          }
         },
         "colorscale": [
          [
           0,
           "#0d0887"
          ],
          [
           0.1111111111111111,
           "#46039f"
          ],
          [
           0.2222222222222222,
           "#7201a8"
          ],
          [
           0.3333333333333333,
           "#9c179e"
          ],
          [
           0.4444444444444444,
           "#bd3786"
          ],
          [
           0.5555555555555556,
           "#d8576b"
          ],
          [
           0.6666666666666666,
           "#ed7953"
          ],
          [
           0.7777777777777778,
           "#fb9f3a"
          ],
          [
           0.8888888888888888,
           "#fdca26"
          ],
          [
           1,
           "#f0f921"
          ]
         ]
        },
        "height": 800,
        "legend": {
         "tracegroupgap": 0
        },
        "mapbox": {
         "center": {
          "lat": -28.847329714160004,
          "lon": 114.04638079296
         },
         "domain": {
          "x": [
           0,
           1
          ],
          "y": [
           0,
           1
          ]
         },
         "style": "open-street-map",
         "zoom": 16
        },
        "margin": {
         "t": 60
        },
        "template": {
         "data": {
          "bar": [
           {
            "error_x": {
             "color": "#2a3f5f"
            },
            "error_y": {
             "color": "#2a3f5f"
            },
            "marker": {
             "line": {
              "color": "#E5ECF6",
              "width": 0.5
             },
             "pattern": {
              "fillmode": "overlay",
              "size": 10,
              "solidity": 0.2
             }
            },
            "type": "bar"
           }
          ],
          "barpolar": [
           {
            "marker": {
             "line": {
              "color": "#E5ECF6",
              "width": 0.5
             },
             "pattern": {
              "fillmode": "overlay",
              "size": 10,
              "solidity": 0.2
             }
            },
            "type": "barpolar"
           }
          ],
          "carpet": [
           {
            "aaxis": {
             "endlinecolor": "#2a3f5f",
             "gridcolor": "white",
             "linecolor": "white",
             "minorgridcolor": "white",
             "startlinecolor": "#2a3f5f"
            },
            "baxis": {
             "endlinecolor": "#2a3f5f",
             "gridcolor": "white",
             "linecolor": "white",
             "minorgridcolor": "white",
             "startlinecolor": "#2a3f5f"
            },
            "type": "carpet"
           }
          ],
          "choropleth": [
           {
            "colorbar": {
             "outlinewidth": 0,
             "ticks": ""
            },
            "type": "choropleth"
           }
          ],
          "contour": [
           {
            "colorbar": {
             "outlinewidth": 0,
             "ticks": ""
            },
            "colorscale": [
             [
              0,
              "#0d0887"
             ],
             [
              0.1111111111111111,
              "#46039f"
             ],
             [
              0.2222222222222222,
              "#7201a8"
             ],
             [
              0.3333333333333333,
              "#9c179e"
             ],
             [
              0.4444444444444444,
              "#bd3786"
             ],
             [
              0.5555555555555556,
              "#d8576b"
             ],
             [
              0.6666666666666666,
              "#ed7953"
             ],
             [
              0.7777777777777778,
              "#fb9f3a"
             ],
             [
              0.8888888888888888,
              "#fdca26"
             ],
             [
              1,
              "#f0f921"
             ]
            ],
            "type": "contour"
           }
          ],
          "contourcarpet": [
           {
            "colorbar": {
             "outlinewidth": 0,
             "ticks": ""
            },
            "type": "contourcarpet"
           }
          ],
          "heatmap": [
           {
            "colorbar": {
             "outlinewidth": 0,
             "ticks": ""
            },
            "colorscale": [
             [
              0,
              "#0d0887"
             ],
             [
              0.1111111111111111,
              "#46039f"
             ],
             [
              0.2222222222222222,
              "#7201a8"
             ],
             [
              0.3333333333333333,
              "#9c179e"
             ],
             [
              0.4444444444444444,
              "#bd3786"
             ],
             [
              0.5555555555555556,
              "#d8576b"
             ],
             [
              0.6666666666666666,
              "#ed7953"
             ],
             [
              0.7777777777777778,
              "#fb9f3a"
             ],
             [
              0.8888888888888888,
              "#fdca26"
             ],
             [
              1,
              "#f0f921"
             ]
            ],
            "type": "heatmap"
           }
          ],
          "heatmapgl": [
           {
            "colorbar": {
             "outlinewidth": 0,
             "ticks": ""
            },
            "colorscale": [
             [
              0,
              "#0d0887"
             ],
             [
              0.1111111111111111,
              "#46039f"
             ],
             [
              0.2222222222222222,
              "#7201a8"
             ],
             [
              0.3333333333333333,
              "#9c179e"
             ],
             [
              0.4444444444444444,
              "#bd3786"
             ],
             [
              0.5555555555555556,
              "#d8576b"
             ],
             [
              0.6666666666666666,
              "#ed7953"
             ],
             [
              0.7777777777777778,
              "#fb9f3a"
             ],
             [
              0.8888888888888888,
              "#fdca26"
             ],
             [
              1,
              "#f0f921"
             ]
            ],
            "type": "heatmapgl"
           }
          ],
          "histogram": [
           {
            "marker": {
             "pattern": {
              "fillmode": "overlay",
              "size": 10,
              "solidity": 0.2
             }
            },
            "type": "histogram"
           }
          ],
          "histogram2d": [
           {
            "colorbar": {
             "outlinewidth": 0,
             "ticks": ""
            },
            "colorscale": [
             [
              0,
              "#0d0887"
             ],
             [
              0.1111111111111111,
              "#46039f"
             ],
             [
              0.2222222222222222,
              "#7201a8"
             ],
             [
              0.3333333333333333,
              "#9c179e"
             ],
             [
              0.4444444444444444,
              "#bd3786"
             ],
             [
              0.5555555555555556,
              "#d8576b"
             ],
             [
              0.6666666666666666,
              "#ed7953"
             ],
             [
              0.7777777777777778,
              "#fb9f3a"
             ],
             [
              0.8888888888888888,
              "#fdca26"
             ],
             [
              1,
              "#f0f921"
             ]
            ],
            "type": "histogram2d"
           }
          ],
          "histogram2dcontour": [
           {
            "colorbar": {
             "outlinewidth": 0,
             "ticks": ""
            },
            "colorscale": [
             [
              0,
              "#0d0887"
             ],
             [
              0.1111111111111111,
              "#46039f"
             ],
             [
              0.2222222222222222,
              "#7201a8"
             ],
             [
              0.3333333333333333,
              "#9c179e"
             ],
             [
              0.4444444444444444,
              "#bd3786"
             ],
             [
              0.5555555555555556,
              "#d8576b"
             ],
             [
              0.6666666666666666,
              "#ed7953"
             ],
             [
              0.7777777777777778,
              "#fb9f3a"
             ],
             [
              0.8888888888888888,
              "#fdca26"
             ],
             [
              1,
              "#f0f921"
             ]
            ],
            "type": "histogram2dcontour"
           }
          ],
          "mesh3d": [
           {
            "colorbar": {
             "outlinewidth": 0,
             "ticks": ""
            },
            "type": "mesh3d"
           }
          ],
          "parcoords": [
           {
            "line": {
             "colorbar": {
              "outlinewidth": 0,
              "ticks": ""
             }
            },
            "type": "parcoords"
           }
          ],
          "pie": [
           {
            "automargin": true,
            "type": "pie"
           }
          ],
          "scatter": [
           {
            "fillpattern": {
             "fillmode": "overlay",
             "size": 10,
             "solidity": 0.2
            },
            "type": "scatter"
           }
          ],
          "scatter3d": [
           {
            "line": {
             "colorbar": {
              "outlinewidth": 0,
              "ticks": ""
             }
            },
            "marker": {
             "colorbar": {
              "outlinewidth": 0,
              "ticks": ""
             }
            },
            "type": "scatter3d"
           }
          ],
          "scattercarpet": [
           {
            "marker": {
             "colorbar": {
              "outlinewidth": 0,
              "ticks": ""
             }
            },
            "type": "scattercarpet"
           }
          ],
          "scattergeo": [
           {
            "marker": {
             "colorbar": {
              "outlinewidth": 0,
              "ticks": ""
             }
            },
            "type": "scattergeo"
           }
          ],
          "scattergl": [
           {
            "marker": {
             "colorbar": {
              "outlinewidth": 0,
              "ticks": ""
             }
            },
            "type": "scattergl"
           }
          ],
          "scattermapbox": [
           {
            "marker": {
             "colorbar": {
              "outlinewidth": 0,
              "ticks": ""
             }
            },
            "type": "scattermapbox"
           }
          ],
          "scatterpolar": [
           {
            "marker": {
             "colorbar": {
              "outlinewidth": 0,
              "ticks": ""
             }
            },
            "type": "scatterpolar"
           }
          ],
          "scatterpolargl": [
           {
            "marker": {
             "colorbar": {
              "outlinewidth": 0,
              "ticks": ""
             }
            },
            "type": "scatterpolargl"
           }
          ],
          "scatterternary": [
           {
            "marker": {
             "colorbar": {
              "outlinewidth": 0,
              "ticks": ""
             }
            },
            "type": "scatterternary"
           }
          ],
          "surface": [
           {
            "colorbar": {
             "outlinewidth": 0,
             "ticks": ""
            },
            "colorscale": [
             [
              0,
              "#0d0887"
             ],
             [
              0.1111111111111111,
              "#46039f"
             ],
             [
              0.2222222222222222,
              "#7201a8"
             ],
             [
              0.3333333333333333,
              "#9c179e"
             ],
             [
              0.4444444444444444,
              "#bd3786"
             ],
             [
              0.5555555555555556,
              "#d8576b"
             ],
             [
              0.6666666666666666,
              "#ed7953"
             ],
             [
              0.7777777777777778,
              "#fb9f3a"
             ],
             [
              0.8888888888888888,
              "#fdca26"
             ],
             [
              1,
              "#f0f921"
             ]
            ],
            "type": "surface"
           }
          ],
          "table": [
           {
            "cells": {
             "fill": {
              "color": "#EBF0F8"
             },
             "line": {
              "color": "white"
             }
            },
            "header": {
             "fill": {
              "color": "#C8D4E3"
             },
             "line": {
              "color": "white"
             }
            },
            "type": "table"
           }
          ]
         },
         "layout": {
          "annotationdefaults": {
           "arrowcolor": "#2a3f5f",
           "arrowhead": 0,
           "arrowwidth": 1
          },
          "autotypenumbers": "strict",
          "coloraxis": {
           "colorbar": {
            "outlinewidth": 0,
            "ticks": ""
           }
          },
          "colorscale": {
           "diverging": [
            [
             0,
             "#8e0152"
            ],
            [
             0.1,
             "#c51b7d"
            ],
            [
             0.2,
             "#de77ae"
            ],
            [
             0.3,
             "#f1b6da"
            ],
            [
             0.4,
             "#fde0ef"
            ],
            [
             0.5,
             "#f7f7f7"
            ],
            [
             0.6,
             "#e6f5d0"
            ],
            [
             0.7,
             "#b8e186"
            ],
            [
             0.8,
             "#7fbc41"
            ],
            [
             0.9,
             "#4d9221"
            ],
            [
             1,
             "#276419"
            ]
           ],
           "sequential": [
            [
             0,
             "#0d0887"
            ],
            [
             0.1111111111111111,
             "#46039f"
            ],
            [
             0.2222222222222222,
             "#7201a8"
            ],
            [
             0.3333333333333333,
             "#9c179e"
            ],
            [
             0.4444444444444444,
             "#bd3786"
            ],
            [
             0.5555555555555556,
             "#d8576b"
            ],
            [
             0.6666666666666666,
             "#ed7953"
            ],
            [
             0.7777777777777778,
             "#fb9f3a"
            ],
            [
             0.8888888888888888,
             "#fdca26"
            ],
            [
             1,
             "#f0f921"
            ]
           ],
           "sequentialminus": [
            [
             0,
             "#0d0887"
            ],
            [
             0.1111111111111111,
             "#46039f"
            ],
            [
             0.2222222222222222,
             "#7201a8"
            ],
            [
             0.3333333333333333,
             "#9c179e"
            ],
            [
             0.4444444444444444,
             "#bd3786"
            ],
            [
             0.5555555555555556,
             "#d8576b"
            ],
            [
             0.6666666666666666,
             "#ed7953"
            ],
            [
             0.7777777777777778,
             "#fb9f3a"
            ],
            [
             0.8888888888888888,
             "#fdca26"
            ],
            [
             1,
             "#f0f921"
            ]
           ]
          },
          "colorway": [
           "#636efa",
           "#EF553B",
           "#00cc96",
           "#ab63fa",
           "#FFA15A",
           "#19d3f3",
           "#FF6692",
           "#B6E880",
           "#FF97FF",
           "#FECB52"
          ],
          "font": {
           "color": "#2a3f5f"
          },
          "geo": {
           "bgcolor": "white",
           "lakecolor": "white",
           "landcolor": "#E5ECF6",
           "showlakes": true,
           "showland": true,
           "subunitcolor": "white"
          },
          "hoverlabel": {
           "align": "left"
          },
          "hovermode": "closest",
          "mapbox": {
           "style": "light"
          },
          "paper_bgcolor": "white",
          "plot_bgcolor": "#E5ECF6",
          "polar": {
           "angularaxis": {
            "gridcolor": "white",
            "linecolor": "white",
            "ticks": ""
           },
           "bgcolor": "#E5ECF6",
           "radialaxis": {
            "gridcolor": "white",
            "linecolor": "white",
            "ticks": ""
           }
          },
          "scene": {
           "xaxis": {
            "backgroundcolor": "#E5ECF6",
            "gridcolor": "white",
            "gridwidth": 2,
            "linecolor": "white",
            "showbackground": true,
            "ticks": "",
            "zerolinecolor": "white"
           },
           "yaxis": {
            "backgroundcolor": "#E5ECF6",
            "gridcolor": "white",
            "gridwidth": 2,
            "linecolor": "white",
            "showbackground": true,
            "ticks": "",
            "zerolinecolor": "white"
           },
           "zaxis": {
            "backgroundcolor": "#E5ECF6",
            "gridcolor": "white",
            "gridwidth": 2,
            "linecolor": "white",
            "showbackground": true,
            "ticks": "",
            "zerolinecolor": "white"
           }
          },
          "shapedefaults": {
           "line": {
            "color": "#2a3f5f"
           }
          },
          "ternary": {
           "aaxis": {
            "gridcolor": "white",
            "linecolor": "white",
            "ticks": ""
           },
           "baxis": {
            "gridcolor": "white",
            "linecolor": "white",
            "ticks": ""
           },
           "bgcolor": "#E5ECF6",
           "caxis": {
            "gridcolor": "white",
            "linecolor": "white",
            "ticks": ""
           }
          },
          "title": {
           "x": 0.05
          },
          "xaxis": {
           "automargin": true,
           "gridcolor": "white",
           "linecolor": "white",
           "ticks": "",
           "title": {
            "standoff": 15
           },
           "zerolinecolor": "white",
           "zerolinewidth": 2
          },
          "yaxis": {
           "automargin": true,
           "gridcolor": "white",
           "linecolor": "white",
           "ticks": "",
           "title": {
            "standoff": 15
           },
           "zerolinecolor": "white",
           "zerolinewidth": 2
          }
         }
        },
        "width": 1000
       }
      },
      "image/png": "[encoded data removed]",
      "text/html": [
       "<div>                            <div id=\"29469fc8-578e-4e2a-8d79-2a0a8210b40b\" class=\"plotly-graph-div\" style=\"height:800px; width:1000px;\"></div>            <script type=\"text/javascript\">                require([\"plotly\"], function(Plotly) {                    window.PLOTLYENV=window.PLOTLYENV || {};                                    if (document.getElementById(\"29469fc8-578e-4e2a-8d79-2a0a8210b40b\")) {                    Plotly.newPlot(                        \"29469fc8-578e-4e2a-8d79-2a0a8210b40b\",                        [{\"customdata\":[[-3.071],[-4.548],[-4.604],[-3.133],[10.445],[5.022],[8.467],[17.511],[20.45],[22.329],[22.44],[35.385],[33.04],[34.7],[48.044],[40.27],[40.676],[37.526],[43.547],[45.487],[40.764],[41.776],[29.256],[36.433],[35.754],[37.519],[33.403],[28.748],[36.672],[38.677],[31.755],[32.717],[32.597],[32.837],[32.152],[38.172],[28.834],[37.061],[37.214],[37.214],[35.676],[34.814],[34.741],[36.074],[35.655],[32.382],[32.926],[32.108],[31.144],[53.251],[51.055],[48.339],[28.618],[16.428],[11.384],[13.754],[10.563],[11.607],[14.206],[10.032],[16.025],[16.267],[16.228],[18.343],[16.011],[19.012],[19.518],[30.216],[52.352],[50.546],[58.302],[62.103],[60.781],[63.818],[68.019]],\"hovertemplate\":\"target_latitude=%{lat}\\u003cbr\\u003etarget_longitude=%{lon}\\u003cbr\\u003etarget_depth=%{customdata[0]}\\u003cbr\\u003etimestamp=%{marker.color}\\u003cextra\\u003e\\u003c\\u002fextra\\u003e\",\"lat\":[-28.847294172,-28.8472786,-28.847261722,-28.847254777,-28.847244173,-28.847219175,-28.847203731,-28.847212548,-28.847208708,-28.847198263,-28.847188266,-28.847167944,-28.847138851,-28.847109235,-28.847146893,-28.847103722,-28.847146531,-28.847190825,-28.847272032,-28.847308236,-28.847348467,-28.84740937,-28.847403126,-28.847469671,-28.847513071,-28.847564589,-28.84759327,-28.847618838,-28.847692816,-28.847807888,-28.847824011,-28.847884377,-28.847917669,-28.847921947,-28.847955476,-28.848023819,-28.848023092,-28.847595011,-28.847556418,-28.847556418,-28.847549205,-28.847478212,-28.84744066,-28.847455276,-28.847486382,-28.847504478,-28.847541772,-28.847568904,-28.847595675,-28.847235451,-28.847248832,-28.847281905,-28.847205968,-28.847154675,-28.847122166,-28.847127885,-28.847110345,-28.847088779,-28.847094934,-28.847082693,-28.847112723,-28.847071459,-28.847099658,-28.847074545,-28.847060822,-28.847050336,-28.847048051,-28.846956413,-28.846939621,-28.846947269,-28.84698768,-28.847014866,-28.847030506,-28.847065834,-28.847066834],\"legendgroup\":\"\",\"lon\":[114.047245795,114.047255048,114.047261341,114.047278568,114.047275468,114.047255539,114.047262573,114.047276995,114.047292639,114.047301068,114.047318415,114.047334674,114.047341681,114.047327815,114.047329144,114.047344954,114.047357455,114.047344874,114.047326653,114.047277563,114.047256088,114.04724267,114.047231666,114.04719437,114.047167933,114.047138242,114.047120085,114.047096954,114.047050781,114.046997617,114.046984341,114.04694777,114.046938678,114.046896367,114.046861468,114.046799772,114.046794744,114.046910582,114.046935341,114.046935341,114.046949079,114.046990664,114.047028368,114.047026828,114.047002794,114.046978858,114.046933423,114.046895414,114.046858501,114.046176941,114.046054843,114.045973579,114.045783318,114.045729252,114.045681995,114.045615552,114.045563332,114.045516542,114.045283854,114.045225003,114.045149236,114.045106424,114.04501721,114.044965263,114.044907812,114.04474732,114.044681479,114.044314403,114.044143311,114.04408291,114.04408308,114.04397858,114.043906925,114.04386454,114.043833767],\"marker\":{\"color\":[1615849848.499,1615849860.536,1615849871.833,1615849883.408,1615849900.594,1615849912.587,1615849934.603,1615849946.593,1615849958.596,1615849969.875,1615849981.632,1615850013.641,1615850025.652,1615850037.661,1615850049.637,1615850062.701,1615850074.673,1615850086.681,1615850098.672,1615850110.693,1615850122.679,1615850134.691,1615850146.696,1615850158.683,1615850170.681,1615850182.684,1615850194.68,1615850206.68,1615850218.688,1615850240.683,1615850252.689,1615850264.687,1615850276.697,1615850288.697,1615850300.703,1615850312.702,1615850324.717,1615852409.125,1615852419.396,1615852419.396,1615852429.45,1615852441.568,1615852454.135,1615852465.584,1615852477.595,1615852489.596,1615852501.603,1615852513.617,1615852525.613,1615854699.2,1615854722.264,1615854734.746,1615854766.753,1615854778.759,1615854790.763,1615854803.499,1615854815.778,1615854827.781,1615854869.792,1615854881.797,1615854893.8,1615854906.298,1615854918.807,1615854932.195,1615854944.418,1615854977.326,1615854989.749,1615855066.345,1615855108.878,1615855120.928,1615855133.27,1615855156.42,1615855168.252,1615855179.978,1615855199.024],\"coloraxis\":\"coloraxis\"},\"mode\":\"markers\",\"name\":\"\",\"showlegend\":false,\"subplot\":\"mapbox\",\"type\":\"scattermapbox\"}],                        {\"template\":{\"data\":{\"histogram2dcontour\":[{\"type\":\"histogram2dcontour\",\"colorbar\":{\"outlinewidth\":0,\"ticks\":\"\"},\"colorscale\":[[0.0,\"#0d0887\"],[0.1111111111111111,\"#46039f\"],[0.2222222222222222,\"#7201a8\"],[0.3333333333333333,\"#9c179e\"],[0.4444444444444444,\"#bd3786\"],[0.5555555555555556,\"#d8576b\"],[0.6666666666666666,\"#ed7953\"],[0.7777777777777778,\"#fb9f3a\"],[0.8888888888888888,\"#fdca26\"],[1.0,\"#f0f921\"]]}],\"choropleth\":[{\"type\":\"choropleth\",\"colorbar\":{\"outlinewidth\":0,\"ticks\":\"\"}}],\"histogram2d\":[{\"type\":\"histogram2d\",\"colorbar\":{\"outlinewidth\":0,\"ticks\":\"\"},\"colorscale\":[[0.0,\"#0d0887\"],[0.1111111111111111,\"#46039f\"],[0.2222222222222222,\"#7201a8\"],[0.3333333333333333,\"#9c179e\"],[0.4444444444444444,\"#bd3786\"],[0.5555555555555556,\"#d8576b\"],[0.6666666666666666,\"#ed7953\"],[0.7777777777777778,\"#fb9f3a\"],[0.8888888888888888,\"#fdca26\"],[1.0,\"#f0f921\"]]}],\"heatmap\":[{\"type\":\"heatmap\",\"colorbar\":{\"outlinewidth\":0,\"ticks\":\"\"},\"colorscale\":[[0.0,\"#0d0887\"],[0.1111111111111111,\"#46039f\"],[0.2222222222222222,\"#7201a8\"],[0.3333333333333333,\"#9c179e\"],[0.4444444444444444,\"#bd3786\"],[0.5555555555555556,\"#d8576b\"],[0.6666666666666666,\"#ed7953\"],[0.7777777777777778,\"#fb9f3a\"],[0.8888888888888888,\"#fdca26\"],[1.0,\"#f0f921\"]]}],\"heatmapgl\":[{\"type\":\"heatmapgl\",\"colorbar\":{\"outlinewidth\":0,\"ticks\":\"\"},\"colorscale\":[[0.0,\"#0d0887\"],[0.1111111111111111,\"#46039f\"],[0.2222222222222222,\"#7201a8\"],[0.3333333333333333,\"#9c179e\"],[0.4444444444444444,\"#bd3786\"],[0.5555555555555556,\"#d8576b\"],[0.6666666666666666,\"#ed7953\"],[0.7777777777777778,\"#fb9f3a\"],[0.8888888888888888,\"#fdca26\"],[1.0,\"#f0f921\"]]}],\"contourcarpet\":[{\"type\":\"contourcarpet\",\"colorbar\":{\"outlinewidth\":0,\"ticks\":\"\"}}],\"contour\":[{\"type\":\"contour\",\"colorbar\":{\"outlinewidth\":0,\"ticks\":\"\"},\"colorscale\":[[0.0,\"#0d0887\"],[0.1111111111111111,\"#46039f\"],[0.2222222222222222,\"#7201a8\"],[0.3333333333333333,\"#9c179e\"],[0.4444444444444444,\"#bd3786\"],[0.5555555555555556,\"#d8576b\"],[0.6666666666666666,\"#ed7953\"],[0.7777777777777778,\"#fb9f3a\"],[0.8888888888888888,\"#fdca26\"],[1.0,\"#f0f921\"]]}],\"surface\":[{\"type\":\"surface\",\"colorbar\":{\"outlinewidth\":0,\"ticks\":\"\"},\"colorscale\":[[0.0,\"#0d0887\"],[0.1111111111111111,\"#46039f\"],[0.2222222222222222,\"#7201a8\"],[0.3333333333333333,\"#9c179e\"],[0.4444444444444444,\"#bd3786\"],[0.5555555555555556,\"#d8576b\"],[0.6666666666666666,\"#ed7953\"],[0.7777777777777778,\"#fb9f3a\"],[0.8888888888888888,\"#fdca26\"],[1.0,\"#f0f921\"]]}],\"mesh3d\":[{\"type\":\"mesh3d\",\"colorbar\":{\"outlinewidth\":0,\"ticks\":\"\"}}],\"scatter\":[{\"fillpattern\":{\"fillmode\":\"overlay\",\"size\":10,\"solidity\":0.2},\"type\":\"scatter\"}],\"parcoords\":[{\"type\":\"parcoords\",\"line\":{\"colorbar\":{\"outlinewidth\":0,\"ticks\":\"\"}}}],\"scatterpolargl\":[{\"type\":\"scatterpolargl\",\"marker\":{\"colorbar\":{\"outlinewidth\":0,\"ticks\":\"\"}}}],\"bar\":[{\"error_x\":{\"color\":\"#2a3f5f\"},\"error_y\":{\"color\":\"#2a3f5f\"},\"marker\":{\"line\":{\"color\":\"#E5ECF6\",\"width\":0.5},\"pattern\":{\"fillmode\":\"overlay\",\"size\":10,\"solidity\":0.2}},\"type\":\"bar\"}],\"scattergeo\":[{\"type\":\"scattergeo\",\"marker\":{\"colorbar\":{\"outlinewidth\":0,\"ticks\":\"\"}}}],\"scatterpolar\":[{\"type\":\"scatterpolar\",\"marker\":{\"colorbar\":{\"outlinewidth\":0,\"ticks\":\"\"}}}],\"histogram\":[{\"marker\":{\"pattern\":{\"fillmode\":\"overlay\",\"size\":10,\"solidity\":0.2}},\"type\":\"histogram\"}],\"scattergl\":[{\"type\":\"scattergl\",\"marker\":{\"colorbar\":{\"outlinewidth\":0,\"ticks\":\"\"}}}],\"scatter3d\":[{\"type\":\"scatter3d\",\"line\":{\"colorbar\":{\"outlinewidth\":0,\"ticks\":\"\"}},\"marker\":{\"colorbar\":{\"outlinewidth\":0,\"ticks\":\"\"}}}],\"scattermapbox\":[{\"type\":\"scattermapbox\",\"marker\":{\"colorbar\":{\"outlinewidth\":0,\"ticks\":\"\"}}}],\"scatterternary\":[{\"type\":\"scatterternary\",\"marker\":{\"colorbar\":{\"outlinewidth\":0,\"ticks\":\"\"}}}],\"scattercarpet\":[{\"type\":\"scattercarpet\",\"marker\":{\"colorbar\":{\"outlinewidth\":0,\"ticks\":\"\"}}}],\"carpet\":[{\"aaxis\":{\"endlinecolor\":\"#2a3f5f\",\"gridcolor\":\"white\",\"linecolor\":\"white\",\"minorgridcolor\":\"white\",\"startlinecolor\":\"#2a3f5f\"},\"baxis\":{\"endlinecolor\":\"#2a3f5f\",\"gridcolor\":\"white\",\"linecolor\":\"white\",\"minorgridcolor\":\"white\",\"startlinecolor\":\"#2a3f5f\"},\"type\":\"carpet\"}],\"table\":[{\"cells\":{\"fill\":{\"color\":\"#EBF0F8\"},\"line\":{\"color\":\"white\"}},\"header\":{\"fill\":{\"color\":\"#C8D4E3\"},\"line\":{\"color\":\"white\"}},\"type\":\"table\"}],\"barpolar\":[{\"marker\":{\"line\":{\"color\":\"#E5ECF6\",\"width\":0.5},\"pattern\":{\"fillmode\":\"overlay\",\"size\":10,\"solidity\":0.2}},\"type\":\"barpolar\"}],\"pie\":[{\"automargin\":true,\"type\":\"pie\"}]},\"layout\":{\"autotypenumbers\":\"strict\",\"colorway\":[\"#636efa\",\"#EF553B\",\"#00cc96\",\"#ab63fa\",\"#FFA15A\",\"#19d3f3\",\"#FF6692\",\"#B6E880\",\"#FF97FF\",\"#FECB52\"],\"font\":{\"color\":\"#2a3f5f\"},\"hovermode\":\"closest\",\"hoverlabel\":{\"align\":\"left\"},\"paper_bgcolor\":\"white\",\"plot_bgcolor\":\"#E5ECF6\",\"polar\":{\"bgcolor\":\"#E5ECF6\",\"angularaxis\":{\"gridcolor\":\"white\",\"linecolor\":\"white\",\"ticks\":\"\"},\"radialaxis\":{\"gridcolor\":\"white\",\"linecolor\":\"white\",\"ticks\":\"\"}},\"ternary\":{\"bgcolor\":\"#E5ECF6\",\"aaxis\":{\"gridcolor\":\"white\",\"linecolor\":\"white\",\"ticks\":\"\"},\"baxis\":{\"gridcolor\":\"white\",\"linecolor\":\"white\",\"ticks\":\"\"},\"caxis\":{\"gridcolor\":\"white\",\"linecolor\":\"white\",\"ticks\":\"\"}},\"coloraxis\":{\"colorbar\":{\"outlinewidth\":0,\"ticks\":\"\"}},\"colorscale\":{\"sequential\":[[0.0,\"#0d0887\"],[0.1111111111111111,\"#46039f\"],[0.2222222222222222,\"#7201a8\"],[0.3333333333333333,\"#9c179e\"],[0.4444444444444444,\"#bd3786\"],[0.5555555555555556,\"#d8576b\"],[0.6666666666666666,\"#ed7953\"],[0.7777777777777778,\"#fb9f3a\"],[0.8888888888888888,\"#fdca26\"],[1.0,\"#f0f921\"]],\"sequentialminus\":[[0.0,\"#0d0887\"],[0.1111111111111111,\"#46039f\"],[0.2222222222222222,\"#7201a8\"],[0.3333333333333333,\"#9c179e\"],[0.4444444444444444,\"#bd3786\"],[0.5555555555555556,\"#d8576b\"],[0.6666666666666666,\"#ed7953\"],[0.7777777777777778,\"#fb9f3a\"],[0.8888888888888888,\"#fdca26\"],[1.0,\"#f0f921\"]],\"diverging\":[[0,\"#8e0152\"],[0.1,\"#c51b7d\"],[0.2,\"#de77ae\"],[0.3,\"#f1b6da\"],[0.4,\"#fde0ef\"],[0.5,\"#f7f7f7\"],[0.6,\"#e6f5d0\"],[0.7,\"#b8e186\"],[0.8,\"#7fbc41\"],[0.9,\"#4d9221\"],[1,\"#276419\"]]},\"xaxis\":{\"gridcolor\":\"white\",\"linecolor\":\"white\",\"ticks\":\"\",\"title\":{\"standoff\":15},\"zerolinecolor\":\"white\",\"automargin\":true,\"zerolinewidth\":2},\"yaxis\":{\"gridcolor\":\"white\",\"linecolor\":\"white\",\"ticks\":\"\",\"title\":{\"standoff\":15},\"zerolinecolor\":\"white\",\"automargin\":true,\"zerolinewidth\":2},\"scene\":{\"xaxis\":{\"backgroundcolor\":\"#E5ECF6\",\"gridcolor\":\"white\",\"linecolor\":\"white\",\"showbackground\":true,\"ticks\":\"\",\"zerolinecolor\":\"white\",\"gridwidth\":2},\"yaxis\":{\"backgroundcolor\":\"#E5ECF6\",\"gridcolor\":\"white\",\"linecolor\":\"white\",\"showbackground\":true,\"ticks\":\"\",\"zerolinecolor\":\"white\",\"gridwidth\":2},\"zaxis\":{\"backgroundcolor\":\"#E5ECF6\",\"gridcolor\":\"white\",\"linecolor\":\"white\",\"showbackground\":true,\"ticks\":\"\",\"zerolinecolor\":\"white\",\"gridwidth\":2}},\"shapedefaults\":{\"line\":{\"color\":\"#2a3f5f\"}},\"annotationdefaults\":{\"arrowcolor\":\"#2a3f5f\",\"arrowhead\":0,\"arrowwidth\":1},\"geo\":{\"bgcolor\":\"white\",\"landcolor\":\"#E5ECF6\",\"subunitcolor\":\"white\",\"showland\":true,\"showlakes\":true,\"lakecolor\":\"white\"},\"title\":{\"x\":0.05},\"mapbox\":{\"style\":\"light\"}}},\"mapbox\":{\"domain\":{\"x\":[0.0,1.0],\"y\":[0.0,1.0]},\"center\":{\"lat\":-28.847329714160004,\"lon\":114.04638079296},\"zoom\":16,\"style\":\"open-street-map\"},\"coloraxis\":{\"colorbar\":{\"title\":{\"text\":\"timestamp\"}},\"colorscale\":[[0.0,\"#0d0887\"],[0.1111111111111111,\"#46039f\"],[0.2222222222222222,\"#7201a8\"],[0.3333333333333333,\"#9c179e\"],[0.4444444444444444,\"#bd3786\"],[0.5555555555555556,\"#d8576b\"],[0.6666666666666666,\"#ed7953\"],[0.7777777777777778,\"#fb9f3a\"],[0.8888888888888888,\"#fdca26\"],[1.0,\"#f0f921\"]]},\"legend\":{\"tracegroupgap\":0},\"margin\":{\"t\":60},\"height\":800,\"width\":1000},                        {\"responsive\": true}                    ).then(function(){\n",
       "                            \n",
       "var gd = document.getElementById('29469fc8-578e-4e2a-8d79-2a0a8210b40b');\n",
       "var x = new MutationObserver(function (mutations, observer) {{\n",
       "        var display = window.getComputedStyle(gd).display;\n",
       "        if (!display || display === 'none') {{\n",
       "            console.log([gd, 'removed!']);\n",
       "            Plotly.purge(gd);\n",
       "            observer.disconnect();\n",
       "        }}\n",
       "}});\n",
       "\n",
       "// Listen for the removal of the full notebook cells\n",
       "var notebookContainer = gd.closest('#notebook-container');\n",
       "if (notebookContainer) {{\n",
       "    x.observe(notebookContainer, {childList: true});\n",
       "}}\n",
       "\n",
       "// Listen for the clearing of the current output cell\n",
       "var outputEl = gd.closest('.output');\n",
       "if (outputEl) {{\n",
       "    x.observe(outputEl, {childList: true});\n",
       "}}\n",
       "\n",
       "                        })                };                });            </script>        </div>"
      ]
     },
     "metadata": {},
     "output_type": "display_data"
    }
   ],
   "source": [
    "data: dict = dict()\n",
    "\n",
    "if TeledyneDVLMessage in parsed_messages:\n",
    "    data[\"dvl\"]: pl.DataFrame = pl.DataFrame([\n",
    "        {\n",
    "            \"topic\": message.header.topic,\n",
    "            \"timestamp\": message.header.timestamp,\n",
    "            \n",
    "            \"altitude\": message.body.altitude,\n",
    "            \n",
    "            \"range_01\": message.body.range_01,\n",
    "            \"range_02\": message.body.range_02,\n",
    "            \"range_03\": message.body.range_03,\n",
    "            \"range_04\": message.body.range_04,\n",
    "        \n",
    "            \"heading\": message.body.heading,\n",
    "            \"pitch\": message.body.pitch,\n",
    "            \"roll\": message.body.roll,\n",
    "        \n",
    "            \"velocity_x\": message.body.velocity_x,\n",
    "            \"velocity_y\": message.body.velocity_y,\n",
    "            \"velocity_z\": message.body.velocity_z,\n",
    "        \n",
    "            \"dmg_x\": message.body.dmg_x,\n",
    "            \"dmg_y\": message.body.dmg_y,\n",
    "            \"dmg_z\": message.body.dmg_z,\n",
    "        \n",
    "            \"course_over_ground\": message.body.course_over_ground,\n",
    "            \"speed_over_ground\": message.body.speed_over_ground,\n",
    "            \"true_heading\": message.body.true_heading,\n",
    "        \n",
    "            \"gimbal_pitch\": message.body.gimbal_pitch,\n",
    "            \"sound_velocity\": message.body.sound_velocity,\n",
    "        \n",
    "            \"bottom_track_status\": message.body.bottom_track_status,\n",
    "    \n",
    "        } for message in parsed_messages[TeledyneDVLMessage]\n",
    "    ])\n",
    "\n",
    "if EvologicsModemMessage in parsed_messages:\n",
    "    data[\"evologics\"]: pl.DataFrame = pl.DataFrame([\n",
    "        {\n",
    "            \"topic\": message.header.topic,\n",
    "            \"timestamp\": message.header.timestamp,\n",
    "            \n",
    "            \"target_latitude\": message.body.target_latitude,\n",
    "            \"target_longitude\": message.body.target_longitude,\n",
    "            \"target_depth\": message.body.target_depth,\n",
    "            \n",
    "            \"ship_latitude\": message.body.ship_latitude,\n",
    "            \"ship_longitude\": message.body.ship_longitude,\n",
    "    \n",
    "            \"ship_heading\": message.body.ship_heading,\n",
    "            \"ship_pitch\": message.body.ship_pitch,\n",
    "            \"ship_roll\": message.body.ship_roll,\n",
    "            \n",
    "        } for message in parsed_messages[EvologicsModemMessage]\n",
    "    ])\n",
    "\n",
    "figs: dict = dict()\n",
    "figs[\"usbl_scatter\"] = plot_evologics_scatter(data[\"evologics\"])\n",
    "figs[\"usbl_scatter\"].show()"
   ]
  }
 ],
 "metadata": {
  "kernelspec": {
   "display_name": "Python 3 (ipykernel)",
   "language": "python",
   "name": "python3"
  },
  "language_info": {
   "codemirror_mode": {
    "name": "ipython",
    "version": 3
   },
   "file_extension": ".py",
   "mimetype": "text/x-python",
   "name": "python",
   "nbconvert_exporter": "python",
   "pygments_lexer": "ipython3",
   "version": "3.12.3"
  }
 },
 "nbformat": 4,
 "nbformat_minor": 5
}
