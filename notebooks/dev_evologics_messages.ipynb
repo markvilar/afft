{
 "cells": [
  {
   "cell_type": "code",
   "execution_count": null,
   "id": "b8790715-0d21-461e-8ca8-77002b159fe5",
   "metadata": {},
   "outputs": [],
   "source": [
    "from pathlib import Path\n",
    "\n",
    "import plotly.express as px\n",
    "import polars as pl\n",
    "\n",
    "from afft.io import read_file\n",
    "from afft.utils.log import logger"
   ]
  },
  {
   "cell_type": "code",
   "execution_count": null,
   "id": "8027fae3-6075-4ea6-9898-5f6a888d82ef",
   "metadata": {},
   "outputs": [],
   "source": [
    "from afft.services.sirius_messages import (\n",
    "    TeledyneDVLMessage,\n",
    "    EvologicsModemMessage,\n",
    ")\n",
    "\n",
    "from afft.services.sirius_messages import (\n",
    "    parse_message_header,\n",
    "    parse_evologics_modem_message,\n",
    ")"
   ]
  },
  {
   "cell_type": "markdown",
   "id": "1ee6cbe8-0583-481f-b901-ebb5cc235b30",
   "metadata": {},
   "source": [
    "### Load data"
   ]
  },
  {
   "cell_type": "code",
   "execution_count": null,
   "id": "59310e0a-4b64-4def-84a4-765ebeb8a247",
   "metadata": {},
   "outputs": [],
   "source": [
    "paths: dict = dict()\n",
    "\n",
    "paths[\"datadir\"] = Path(\n",
    "    \"/media/martin/pcie_01/acfr_revisits_processed/acfr_merged_message_files\"\n",
    ")\n",
    "paths[\"messages\"] = paths[\"datadir\"] / Path(\"qdc5ghs3_20210315_230947_messages.txt\")\n",
    "\n",
    "lines: list[str] = read_file(paths[\"messages\"]).unwrap()\n",
    "\n",
    "\n",
    "TOPIC_TO_PARSER: dict = {\n",
    "    \"EVOLOGICS_FIX\": parse_evologics_modem_message,\n",
    "}\n",
    "\n",
    "\n",
    "def parse_messages(lines: list[str], parsers: dict) -> dict:\n",
    "    \"\"\"TODO\"\"\"\n",
    "    parsed_messages: dict[type, object] = dict()\n",
    "\n",
    "    for line in lines:\n",
    "        header = parse_message_header(line).unwrap()\n",
    "\n",
    "        if header.topic not in parsers:\n",
    "            continue\n",
    "\n",
    "        parsed: object = parsers[header.topic](line).unwrap()\n",
    "\n",
    "        if type(parsed) not in parsed_messages:\n",
    "            parsed_messages[type(parsed)] = list()\n",
    "        else:\n",
    "            parsed_messages[type(parsed)].append(parsed)\n",
    "\n",
    "    return parsed_messages\n",
    "\n",
    "\n",
    "parsed_messages: dict[type, list[object]] = parse_messages(lines, TOPIC_TO_PARSER)\n",
    "\n",
    "for message_type, messages in parsed_messages.items():\n",
    "    logger.info(f\"{message_type}: {len(messages)}\")"
   ]
  },
  {
   "cell_type": "markdown",
   "id": "41b54a12-7da2-4252-9c94-6694293a9246",
   "metadata": {},
   "source": [
    "### Define plot functions"
   ]
  },
  {
   "cell_type": "code",
   "execution_count": null,
   "id": "a2f5b387-a52a-4aee-bee8-5c62b0e79030",
   "metadata": {},
   "outputs": [],
   "source": [
    "def plot_evologics_scatter(data: pl.DataFrame) -> None:\n",
    "    \"\"\"TODO\"\"\"\n",
    "    fig = px.scatter_mapbox(\n",
    "        data,\n",
    "        lat=\"target_latitude\",\n",
    "        lon=\"target_longitude\",\n",
    "        color=\"timestamp\",\n",
    "        size_max=15,\n",
    "        zoom=16,\n",
    "        height=600,\n",
    "        hover_data={\"target_depth\"},\n",
    "    )\n",
    "\n",
    "    fig.update_layout(height=800, width=1000, mapbox_style=\"open-street-map\")\n",
    "    return fig"
   ]
  },
  {
   "cell_type": "markdown",
   "id": "09744a91-31d0-434c-bbc7-c4d2e3196523",
   "metadata": {},
   "source": [
    "### Format LQ Modem messages"
   ]
  },
  {
   "cell_type": "code",
   "execution_count": null,
   "id": "0e553373-c97c-454e-a451-4d505711f2f3",
   "metadata": {},
   "outputs": [],
   "source": [
    "data: dict = dict()\n",
    "\n",
    "if TeledyneDVLMessage in parsed_messages:\n",
    "    data[\"dvl\"]: pl.DataFrame = pl.DataFrame(\n",
    "        [\n",
    "            {\n",
    "                \"topic\": message.header.topic,\n",
    "                \"timestamp\": message.header.timestamp,\n",
    "                \"altitude\": message.body.altitude,\n",
    "                \"range_01\": message.body.range_01,\n",
    "                \"range_02\": message.body.range_02,\n",
    "                \"range_03\": message.body.range_03,\n",
    "                \"range_04\": message.body.range_04,\n",
    "                \"heading\": message.body.heading,\n",
    "                \"pitch\": message.body.pitch,\n",
    "                \"roll\": message.body.roll,\n",
    "                \"velocity_x\": message.body.velocity_x,\n",
    "                \"velocity_y\": message.body.velocity_y,\n",
    "                \"velocity_z\": message.body.velocity_z,\n",
    "                \"dmg_x\": message.body.dmg_x,\n",
    "                \"dmg_y\": message.body.dmg_y,\n",
    "                \"dmg_z\": message.body.dmg_z,\n",
    "                \"course_over_ground\": message.body.course_over_ground,\n",
    "                \"speed_over_ground\": message.body.speed_over_ground,\n",
    "                \"true_heading\": message.body.true_heading,\n",
    "                \"gimbal_pitch\": message.body.gimbal_pitch,\n",
    "                \"sound_velocity\": message.body.sound_velocity,\n",
    "                \"bottom_track_status\": message.body.bottom_track_status,\n",
    "            }\n",
    "            for message in parsed_messages[TeledyneDVLMessage]\n",
    "        ]\n",
    "    )\n",
    "\n",
    "if EvologicsModemMessage in parsed_messages:\n",
    "    data[\"evologics\"]: pl.DataFrame = pl.DataFrame(\n",
    "        [\n",
    "            {\n",
    "                \"topic\": message.header.topic,\n",
    "                \"timestamp\": message.header.timestamp,\n",
    "                \"target_latitude\": message.body.target_latitude,\n",
    "                \"target_longitude\": message.body.target_longitude,\n",
    "                \"target_depth\": message.body.target_depth,\n",
    "                \"ship_latitude\": message.body.ship_latitude,\n",
    "                \"ship_longitude\": message.body.ship_longitude,\n",
    "                \"ship_heading\": message.body.ship_heading,\n",
    "                \"ship_pitch\": message.body.ship_pitch,\n",
    "                \"ship_roll\": message.body.ship_roll,\n",
    "            }\n",
    "            for message in parsed_messages[EvologicsModemMessage]\n",
    "        ]\n",
    "    )\n",
    "\n",
    "figs: dict = dict()\n",
    "figs[\"usbl_scatter\"] = plot_evologics_scatter(data[\"evologics\"])\n",
    "figs[\"usbl_scatter\"].show()"
   ]
  }
 ],
 "metadata": {
  "kernelspec": {
   "display_name": "Python 3 (ipykernel)",
   "language": "python",
   "name": "python3"
  },
  "language_info": {
   "codemirror_mode": {
    "name": "ipython",
    "version": 3
   },
   "file_extension": ".py",
   "mimetype": "text/x-python",
   "name": "python",
   "nbconvert_exporter": "python",
   "pygments_lexer": "ipython3",
   "version": "3.12.5"
  }
 },
 "nbformat": 4,
 "nbformat_minor": 5
}
